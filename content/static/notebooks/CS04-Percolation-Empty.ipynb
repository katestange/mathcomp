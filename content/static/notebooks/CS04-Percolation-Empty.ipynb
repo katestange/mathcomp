{
 "cells": [
  {
   "cell_type": "markdown",
   "id": "f01f9597-60b2-4b5e-8539-1838b790602d",
   "metadata": {},
   "source": [
    "# Percolation Theory\n",
    "\n",
    "Create a grid of squares and mark some of them as black (non-porous) and white (porous).  Water flows from the top, and the question is whether it can reach the bottom.  It can go left/right/down (this rule could be changed) and it can only travel on porous squares."
   ]
  },
  {
   "cell_type": "code",
   "execution_count": null,
   "id": "9a4c8fe9-c923-4bc1-a726-7fbc9b410ae9",
   "metadata": {},
   "outputs": [],
   "source": [
    "n = 10 # width/height of grid\n",
    "m = matrix(... # fill in\n",
    "plot(m, axes=False, frame=True, figsize = 5)"
   ]
  },
  {
   "cell_type": "markdown",
   "id": "09aa099f-37ed-4ac8-bb89-378c1d66b653",
   "metadata": {},
   "source": [
    "Create a function that will produce such a matrix of given dimension and with probability p of porousness, using randomness seed s.\n",
    "\n",
    "A hint:  A nice way to to get a 0 with probability p and a 1 with probability 1-p is the following:\n",
    "```\n",
    "ZZ(random.random() >= p)\n",
    "```\n",
    "The idea here is that `random.random() >= p` returns a boolean, which we cast to an integer."
   ]
  },
  {
   "cell_type": "code",
   "execution_count": 2,
   "id": "aa0f82b4-7824-4a88-86b1-a55fbbbf1903",
   "metadata": {},
   "outputs": [],
   "source": [
    "import random\n",
    "def percolation_grid(n, p ,s):\n"
   ]
  },
  {
   "cell_type": "code",
   "execution_count": null,
   "id": "bd8bc12c-b2a0-4198-ac69-1520a88e3eac",
   "metadata": {},
   "outputs": [],
   "source": [
    "percolation_grid(10,0.1,42)"
   ]
  },
  {
   "cell_type": "markdown",
   "id": "0679f630-1efc-4031-af0e-ee709b7e72ef",
   "metadata": {},
   "source": [
    "Now a coding challenge.  The idea is to create an algorithm to check whether water can reach the bottom of the grid or not.  First, come up with your own algorithm idea.  No need to code it right now, but write down the idea."
   ]
  },
  {
   "cell_type": "code",
   "execution_count": 4,
   "id": "3ab524ff-d1ab-4a0e-8e7d-62a4f5e4816f",
   "metadata": {},
   "outputs": [],
   "source": [
    "# record a basic idea\n",
    "    "
   ]
  },
  {
   "cell_type": "markdown",
   "id": "836c99ce-35eb-4eeb-adc0-d05e29252225",
   "metadata": {},
   "source": [
    "## Recursive approach\n",
    "\n",
    "Now, I'd like to guide you to make a *recursive algorithm*.  We'll do this step by step.\n",
    "\n",
    "Create a function `neighbours` which returns the coordinates of the neighbours of a point that water could potentially flow to (left, right, down), based on matrix dimension and coordinates.\n"
   ]
  },
  {
   "cell_type": "code",
   "execution_count": null,
   "id": "1a902919-6811-4759-9f4a-eb4078e82a8d",
   "metadata": {},
   "outputs": [],
   "source": [
    "def neighbours(n, i, j): # returns list of pairs\n",
    "\n",
    "# test -- always good to test units of your code!\n",
    "# here's a suggestion of the type of thing to check\n",
    "n = 5\n",
    "m = matrix(n,n)\n",
    "i, j = 2,4\n",
    "m[i,j] = -1\n",
    "for pair in neighbours(n,i,j):\n",
    "    m[*pair] = 1\n",
    "m"
   ]
  },
  {
   "cell_type": "markdown",
   "id": "6d41ae0a-3c89-44b0-8dc1-3ba5f8191dbe",
   "metadata": {},
   "source": [
    "Create a function `local_percolatable_firsttry` which takes in a matrix and coordinates, and does the following to determine if you can percolate from there out the bottom of the grid:\n",
    "\n",
    "1. If the coordinates indicate a bottom row square, returns True when it's porous and False otherwise.\n",
    "2. If it's not a bottom row square, list all neighbours (using `neighbours`), and call `local_percolatable` on each of those in turn.  If any one returns True, immediately return True.  If all return False, return False.\n",
    "3. I've purposely forgotten something that will bite you.  Just follow my instructions for now.\n",
    "\n",
    "Fun tip:  `any()` will return True if any of the inputs are True, False otherwise\n"
   ]
  },
  {
   "cell_type": "code",
   "execution_count": 49,
   "id": "5541fe40-0681-4f25-988c-8432ac7a50c7",
   "metadata": {},
   "outputs": [],
   "source": [
    "def local_percolatable_firsttry(m, i, j): \n"
   ]
  },
  {
   "cell_type": "markdown",
   "id": "9d4b1db9-c7e9-480e-a5e4-4f4c6e6d7937",
   "metadata": {},
   "source": [
    "Test it out until something breaks."
   ]
  },
  {
   "cell_type": "code",
   "execution_count": null,
   "id": "9195f4f9-a8f5-411f-890b-60dab2c4a6fe",
   "metadata": {},
   "outputs": [],
   "source": [
    "m = percolation_grid(10,0.5,4)\n",
    "show(m)\n",
    "local_percolatable_firsttry(m,0,0)"
   ]
  },
  {
   "cell_type": "markdown",
   "id": "d42b72f3-7f62-4d1e-b94b-2c59f9f97223",
   "metadata": {},
   "source": [
    "If you see `maximum recursion depth exceeded` this means you're probably in an infinite loop.  How can that happen?  How can you stop it?  This is item 3 above.\n",
    "\n",
    "For this, it is helpful to know there's something called a `set` in python.  It's like a list, but ordering doesn't matter and repeats aren't allowed (it's a set, get it?).  You build it with `{}`.  Python set elements must be hashable (more on that someday).  Sage also has `Set`s which are immutable but have some extra functionality that can deal with infinite sets, powersets, cartesian products and other mathy stuff, but are also slower.  Here's a basic cheat sheet for python sets:\n",
    "\n",
    "#### Create\n",
    "\n",
    "* `set()` → empty set\n",
    "* `{1,2,3}` → Python set\n",
    "\n",
    "#### Inspect\n",
    "\n",
    "* `len(S)` → size\n",
    "* `x in S` → membership\n",
    "* `list(S)`, `sorted(S)` → convert/order\n",
    "\n",
    "#### Mutate\n",
    "\n",
    "* `S.add(x)`, `S.update(iterable)`\n",
    "* `S.remove(x)` (KeyError if absent), `S.discard(x)` (no error)\n",
    "* `S.pop()` (remove/return arbitrary), `S.clear()`\n",
    "* `S.copy()`\n",
    "\n",
    "#### Set ops\n",
    "\n",
    "* `S | T` or `S.union(T)`\n",
    "* `S & T` or `S.intersection(T)`\n",
    "* `S - T` or `S.difference(T)`\n",
    "* `S ^ T` or `S.symmetric_difference(T)`\n",
    "\n",
    "#### Relations / tests\n",
    "\n",
    "* `S <= T`; `S < T`; `S >= T`; `S > T`; `S == T`\n",
    "* `S.isdisjoint(T)`\n",
    "* `S.issubset(T)`\n",
    "\n",
    "#### Comprehensions\n",
    "\n",
    "* `{f(x) for x in it if cond(x)}`\n",
    "\n",
    "Write a new version of `local_percolatable` that doesn't have the problem the original did.  Pass in a set of vertices called `seen`.  Let's also make this debuggable by having it modify each location in the matrix that it checks from 0 to 2.  Comparing the matrix before and after will show what it looked at.  (We can remove this later.)"
   ]
  },
  {
   "cell_type": "code",
   "execution_count": 102,
   "id": "32c12aad-dff6-4ba4-b6a3-55c7d77129f2",
   "metadata": {},
   "outputs": [],
   "source": [
    "def local_percolatable(m, i, j, seen = None): # None is default; last argument can be left out\n"
   ]
  },
  {
   "cell_type": "markdown",
   "id": "ab573167-739c-483a-801e-e5a5e5295c6e",
   "metadata": {},
   "source": [
    "Now, create a master function `recurse_percolatable` that uses `local_percolatable` to determine if a matrix has a percolation path. \n",
    "\n",
    "Would you call this a depth-first search or a breadth-first search?"
   ]
  },
  {
   "cell_type": "code",
   "execution_count": 72,
   "id": "07ad9538-1bb3-45a3-be98-e048ec1e02cf",
   "metadata": {},
   "outputs": [],
   "source": [
    "def recurse_percolatable(m):\n"
   ]
  },
  {
   "cell_type": "markdown",
   "id": "1548f8b0-e235-41eb-abb5-46fc01d79902",
   "metadata": {},
   "source": [
    "Test it out a bit."
   ]
  },
  {
   "cell_type": "code",
   "execution_count": null,
   "id": "83f57548-831a-4561-9305-9726e6170517",
   "metadata": {},
   "outputs": [],
   "source": [
    "m = percolation_grid(10,0.3,42)\n",
    "show(m)\n",
    "print(recurse_percolatable(m))\n",
    "show(m)"
   ]
  },
  {
   "cell_type": "markdown",
   "id": "d68706e1-c655-4d13-9ef9-cbf9c3e3c591",
   "metadata": {},
   "source": [
    "## Breadth-first search\n",
    "\n",
    "A non-recursive search is like a little minion who wanders around according to a todo list, and yells out if he finds the bottom of your percolation grid.  You load him up with a list of starting cells (the top row), then he will repeatedly:\n",
    "\n",
    "1. take a cell off his list\n",
    "2. if it's a bottom-row cell, yell \"YAY!  PERCOLATABLE!\"\n",
    "3. if not, list out the not-yet-before-seen and porous neighbours and add them to the list\n",
    "4. go back to (1.)\n",
    "5. if he runs out of things to check on his list, yell \"BOO!  NON-PERCOLATABLE!\"\n",
    "\n",
    "The \"breadth-first\" aspect is that his list of cells is is a first-on-first-off queue:  the next cell he looks at is the one that's been on the list the longest.  Also, when he lists out the neighbours, he should ignore those he has examined previously, as well as those that are not porous.  He adds these new porous ones to his queue to examine later.\n",
    "\n",
    "Here's pseudo-code of a breadth-first search for percolatability:\n",
    "\n",
    "```\n",
    "startcells = cells in top row\n",
    "q = queue of such things (use from collections import deque)\n",
    "seen = set of cells we've seen\n",
    "\n",
    "while q is not empty:\n",
    "    pop off the next frontier cell\n",
    "    if it's in bottom row, we're done, return true\n",
    "    for each neighbour:\n",
    "        if seen or non-porous, skip\n",
    "        add to seen\n",
    "        add to queue\n",
    "```\n",
    "\n",
    "You might want to use `from collections import deque` which is a very efficient queue functionality.  It has basic commands:\n",
    "\n",
    "`append`, `appendleft` (put things on right or left)\n",
    "`pop`, `popleft` (take things off right or left)\n",
    "\n",
    "Implement the algorithm above!  \n",
    "\n",
    "Actually, it's pretty hard to know whether this worked right.  One way to track what's been examined is to simply update visited porous cells from 0 to 2 in m.  Then you can show m before and after, to see if it's really exhaustively searching."
   ]
  },
  {
   "cell_type": "code",
   "execution_count": 79,
   "id": "7173438d-ed61-45e8-bad7-967348c3d647",
   "metadata": {},
   "outputs": [],
   "source": [
    "from collections import deque # fast queue functionality\n",
    "\n",
    "def BFS_percolatable(m):\n"
   ]
  },
  {
   "cell_type": "code",
   "execution_count": null,
   "id": "6a2babf3-0562-4888-a04c-1f61d75b19a7",
   "metadata": {},
   "outputs": [],
   "source": [
    "m = percolation_grid(10,0.8,0)\n",
    "show(m)\n",
    "print(BFS_percolatable(m))\n",
    "show(m)"
   ]
  },
  {
   "cell_type": "markdown",
   "id": "c07ed7a8-5ebf-4eef-9003-f88907d3bc6f",
   "metadata": {},
   "source": [
    "We have now programmed percolation in two algorithms.  Let's test our work to see if the algorithms actually agree!  Write a little loop to test 100 10x10 grids with varying probabilities.\n",
    "\n",
    "maybe useful:  `random.uniform(0,1)` produces a random python float in the unit interval.\n",
    "\n",
    "Warning!  This is harder than it sounds.  It's important to use the same probability and seed when testing both; keep in mind the algorithms modify m."
   ]
  },
  {
   "cell_type": "code",
   "execution_count": 85,
   "id": "613564a1-549b-4eba-84bc-fe2369060c28",
   "metadata": {},
   "outputs": [],
   "source": [
    "# test if algorithms agree\n",
    "for seed in range(1000):\n"
   ]
  },
  {
   "cell_type": "code",
   "execution_count": null,
   "id": "80c7b3be-6ee6-4c65-9bbe-178bd9764c05",
   "metadata": {},
   "outputs": [],
   "source": []
  },
  {
   "cell_type": "markdown",
   "id": "bc4c64f3-54f1-43df-a147-0c897212d9b4",
   "metadata": {},
   "source": [
    "## Critical value for percolation\n",
    "\n",
    "Ok, there's a `critical value' for percolation:  the probability p at which we go from mostly unpercolatable to mostly percolatable.  Devise a way to search for and approximate this value.\n",
    "\n",
    "A useful tool to know about is `list_plot`.\n",
    "\n",
    "Try both algorithms above and see if one is faster than the other (since now you're running lots of tests)."
   ]
  },
  {
   "cell_type": "code",
   "execution_count": 92,
   "id": "95af0268-769e-4d81-877e-6fca551965a1",
   "metadata": {},
   "outputs": [],
   "source": []
  },
  {
   "cell_type": "code",
   "execution_count": null,
   "id": "52f49052-2f32-4607-8ecc-c59863bca19e",
   "metadata": {},
   "outputs": [],
   "source": []
  },
  {
   "cell_type": "markdown",
   "id": "256f858d-78f3-4ce8-9574-01c49543df26",
   "metadata": {},
   "source": [
    "Now this was supposed to be a number theory class!  Let's test some number theory things for percolatability.  We can build a matrix of 1s and 0s based on pretty much anything and ask about percolatability."
   ]
  },
  {
   "cell_type": "code",
   "execution_count": null,
   "id": "6aa81db0-508b-4a63-9f82-3c2725c4340f",
   "metadata": {},
   "outputs": [],
   "source": []
  },
  {
   "cell_type": "code",
   "execution_count": null,
   "id": "a39b1793-c82d-4c63-9944-1f15598f7b2b",
   "metadata": {},
   "outputs": [],
   "source": []
  },
  {
   "cell_type": "code",
   "execution_count": null,
   "id": "c3bfe9ca-d772-4ba8-a15e-8d0e80fff2c0",
   "metadata": {},
   "outputs": [],
   "source": []
  }
 ],
 "metadata": {
  "kernelspec": {
   "display_name": "SageMath 10.5.beta6",
   "language": "sage",
   "name": "sagemath"
  },
  "language_info": {
   "codemirror_mode": {
    "name": "ipython",
    "version": 3
   },
   "file_extension": ".py",
   "mimetype": "text/x-python",
   "name": "python",
   "nbconvert_exporter": "python",
   "pygments_lexer": "ipython3",
   "version": "3.12.3"
  }
 },
 "nbformat": 4,
 "nbformat_minor": 5
}
