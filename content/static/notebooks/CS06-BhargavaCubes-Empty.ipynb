{
 "cells": [
  {
   "cell_type": "markdown",
   "id": "0b481949-aa6a-49e0-a279-091b05bf5e7c",
   "metadata": {},
   "source": [
    "# Case Study 6:  Bhargava Cubes\n",
    "\n",
    "The purpose of this worksheet is to develop a python *class*.  When you have a complicated math thing that you want to manipulate in various ways, a class is a useful container that can have both attributes (data) and methods (functions) in it.  Each instance of a class is an *object*.  As an example of classes in Sage, we have elliptic curves, number fields, rings.  Let's play with these for a minute.\n",
    "\n",
    "Each class has a *constructor*, or a way to build an *instance* of the thing.  An instance has its own identity, e.g. for the elliptic curve class, an instance is a particular elliptic curve, not the abstract concept of a curve.  We call an instance an *object*.\n",
    "\n",
    "Here's some ways to initialize an instance of a class.  You call the name of the class as if it were a function, with inputs whatever data is needed to define the object.  In this case the classes are `EllipticCurve` and `NumberField`."
   ]
  },
  {
   "cell_type": "code",
   "execution_count": null,
   "id": "835f46b2-7e62-4d38-b2f1-dbe2ee4d13dc",
   "metadata": {},
   "outputs": [],
   "source": [
    "# the list is a list of coefficients of the Weierstrass form\n",
    "E = EllipticCurve([0,1]); E"
   ]
  },
  {
   "cell_type": "code",
   "execution_count": null,
   "id": "c2b1f0a1-5349-4bf3-a1fc-34d370c6b602",
   "metadata": {},
   "outputs": [],
   "source": [
    "# this funny notation sets `a` as the name YOU (the user) can type to refer to the root of the polynomial\n",
    "F.<a> = NumberField(x^2+1); F"
   ]
  },
  {
   "cell_type": "markdown",
   "id": "1840c853-5618-4d87-892a-22e24c783de5",
   "metadata": {},
   "source": [
    "A class has its own *methods*, which are functions, and *attributes*, which are data.  You can access these with a dot on the object, for example:"
   ]
  },
  {
   "cell_type": "code",
   "execution_count": null,
   "id": "f4ab5d8d-0f03-48a6-806a-113fdfd011f3",
   "metadata": {},
   "outputs": [],
   "source": [
    "E.torsion_points()"
   ]
  },
  {
   "cell_type": "code",
   "execution_count": null,
   "id": "bb77b520-88cd-4ff9-aae0-d759e3d46fc5",
   "metadata": {},
   "outputs": [],
   "source": [
    "F.galois_group()"
   ]
  },
  {
   "cell_type": "markdown",
   "id": "5cba6680-9845-47f3-9d85-cce6d20c18e2",
   "metadata": {},
   "source": [
    "Something like the discriminant of a field might be considered an attribute, but Sage prefers only to expose methods, so you'll see the `()` on even basic data."
   ]
  },
  {
   "cell_type": "code",
   "execution_count": null,
   "id": "c9202b19-24d9-4180-af7d-049712662006",
   "metadata": {},
   "outputs": [],
   "source": [
    "F.discriminant()"
   ]
  },
  {
   "cell_type": "code",
   "execution_count": null,
   "id": "302647a3-ad02-4e25-89cc-d8e38b801992",
   "metadata": {},
   "outputs": [],
   "source": [
    "E.discriminant()"
   ]
  },
  {
   "cell_type": "markdown",
   "id": "13a54a93-3e6c-4122-ac0f-66fe6c870f14",
   "metadata": {},
   "source": [
    "In this worksheet, we'll build a class that represents a *Bhargava cube*.  A Bhargava cube is a $2 \\times 2 \\times 2$ cube of integers.  Here's the basic syntax to declare a python class that can be constructed."
   ]
  },
  {
   "cell_type": "code",
   "execution_count": 7,
   "id": "8390a01d-4f50-4dd1-a49a-ee53bc84be25",
   "metadata": {},
   "outputs": [],
   "source": [
    "class BhargavaCube:\n",
    "    def __init__(self, x):      # constructor is always called `__init__`, the first argument is always `self`, followed by setup data\n",
    "        self.entries = x        # attribute `entries` stores data about the instance"
   ]
  },
  {
   "cell_type": "markdown",
   "id": "630c4039-8984-4f39-86c5-b47586be4548",
   "metadata": {},
   "source": [
    "Let's test it.  Create an instance."
   ]
  },
  {
   "cell_type": "code",
   "execution_count": null,
   "id": "4a095318-a867-4cd2-8327-45643ee462ec",
   "metadata": {},
   "outputs": [],
   "source": [
    "B = BhargavaCube(\"whatever\")"
   ]
  },
  {
   "cell_type": "markdown",
   "id": "b111e277-a033-4230-a151-0a863f08b158",
   "metadata": {},
   "source": [
    "What does your instance look like?"
   ]
  },
  {
   "cell_type": "code",
   "execution_count": null,
   "id": "586f27bf-6d11-41b0-8305-66c69dbeeb88",
   "metadata": {},
   "outputs": [],
   "source": [
    "B"
   ]
  },
  {
   "cell_type": "markdown",
   "id": "ccfc5332-eabf-4965-ae09-34286e5a80d4",
   "metadata": {},
   "source": [
    "The code above isn't great, because it doesn't check that x has any particular type.  In fact, right now it's just a box that stores anything.  In fact, you may have created your instance with a string, a number, an array... (try!)  We want this to be a cube of integers, so maybe should add some type checking and some formatting for the output.  What we'd really like is for our constructor to properly handle either of the two forms of input `[a,b,c,d,e,f,g,h]` (flat list) or `[[[a, b],[c, d]],[[e, f],[g, h]]]` (nested lists) as input representing the cube of this form:\n",
    "```\n",
    "      front: [[a, b],\n",
    "             [c, d]]\n",
    "      rear: [[e, f],\n",
    "             [g, h]]\n",
    "```\n",
    "\n",
    "The main principle to designing something like this is EAFP:  Easier to Ask Forgiveness than Permission.  So the idea is rather than make super complicated code that will check whether the input satisfies all kinds of properties before trying to put it into the desired box (asking permission), just try to stuff it in and if anything breaks, report the error (hope for forgiveness).  \n",
    "\n",
    "As for stuffing things in the box, Python has nice more advanced ways to handle assignment.  Try the following example cells to learn some of them."
   ]
  },
  {
   "cell_type": "code",
   "execution_count": null,
   "id": "27b07e9e-ceef-40ca-bf7d-623f4dcad6e3",
   "metadata": {},
   "outputs": [],
   "source": [
    "a,b = [1,2]\n",
    "print(a,b)"
   ]
  },
  {
   "cell_type": "code",
   "execution_count": null,
   "id": "97b165c0-9d40-4de1-9246-a0cf7a2d071d",
   "metadata": {},
   "outputs": [],
   "source": [
    "[a,b] = [1,2]\n",
    "print(a,b)"
   ]
  },
  {
   "cell_type": "code",
   "execution_count": null,
   "id": "3db29b9f-5f44-42a1-b43f-90287d64fe24",
   "metadata": {},
   "outputs": [],
   "source": [
    "((a,b),(c,d)) = [[1,2],[3,4]]\n",
    "print(a,b,c,d)"
   ]
  },
  {
   "cell_type": "markdown",
   "id": "4c50910c-a7c4-4e79-b93e-8ee079e0fbe5",
   "metadata": {},
   "source": [
    "This means you can anticipate the nested structure of something and slot all your various entries into named variables.\n",
    "\n",
    "Ok, next up is the concept of `try ... except`.  This is a way to handle errors that your commands cause.  Example, what will this code do?"
   ]
  },
  {
   "cell_type": "code",
   "execution_count": null,
   "id": "48905b01-ed5d-4384-b4a7-08175364da4b",
   "metadata": {},
   "outputs": [],
   "source": [
    "for i in range(-3,3):\n",
    "    try:\n",
    "        x = 1/i\n",
    "        print(x)\n",
    "    except:\n",
    "        pass"
   ]
  },
  {
   "cell_type": "markdown",
   "id": "de82dc0a-a03e-4d87-85ef-59df5e88b069",
   "metadata": {},
   "source": [
    "Modify the code above so that instead of ignoring the error (`pass`) it prints the word \"infinity\"."
   ]
  },
  {
   "cell_type": "markdown",
   "id": "d4d888f5-c704-4501-aeaa-0453bb689077",
   "metadata": {},
   "source": [
    "Maybe instead of returning infinity, you'd rather have the code return an error (also called `exception`), then it looks like this:"
   ]
  },
  {
   "cell_type": "code",
   "execution_count": null,
   "id": "44832f10-222b-4f38-8ba6-0f64b50c9eb6",
   "metadata": {},
   "outputs": [],
   "source": [
    "for i in range(-3,3):\n",
    "    try:\n",
    "        x = 1/i\n",
    "        print(x)\n",
    "    except Exception as e: # You can use this as a magic formula for now; python has lots of inbuilt error handling\n",
    "        raise Exception(\"Bah!  Don't divide by zero!\") from e"
   ]
  },
  {
   "cell_type": "markdown",
   "id": "b4e757ee-d6c3-4524-9c93-2b1e4adc83ce",
   "metadata": {},
   "source": [
    "Before we go modifying our class, here's some further useful functionality:\n",
    "\n",
    "1. `list(x)` turns x into a list if that's a thing you can do to x (maybe it was a tuple, or a string)\n",
    "2. `len(x)` returns the length of x, but this behaves various ways on various types (try it)"
   ]
  },
  {
   "cell_type": "code",
   "execution_count": null,
   "id": "53c1237d-a3d7-4a98-9cbb-711df13ce87c",
   "metadata": {},
   "outputs": [],
   "source": [
    "# mess around with types\n",
    "len(\"123\")"
   ]
  },
  {
   "cell_type": "code",
   "execution_count": null,
   "id": "ce037948-4dc8-4b9c-85ff-623de28dc609",
   "metadata": {},
   "outputs": [],
   "source": [
    "len([1,2,3])"
   ]
  },
  {
   "cell_type": "code",
   "execution_count": null,
   "id": "5fd1eb41-8681-4082-a4e0-9e9d49bd8813",
   "metadata": {},
   "outputs": [],
   "source": [
    "len(123)"
   ]
  },
  {
   "cell_type": "code",
   "execution_count": null,
   "id": "515cc3a8-3629-4432-a829-acd559fa61dc",
   "metadata": {},
   "outputs": [],
   "source": [
    "len([[1,2,3]])"
   ]
  },
  {
   "cell_type": "code",
   "execution_count": null,
   "id": "b984c742-0a4b-47a1-9921-5b76da6c65e5",
   "metadata": {},
   "outputs": [],
   "source": [
    "list(\"[[1,2,3]]\")"
   ]
  },
  {
   "cell_type": "code",
   "execution_count": null,
   "id": "27648196-a8e1-45fd-8d32-3f173d5bf300",
   "metadata": {},
   "outputs": [],
   "source": [
    "list((1,2))"
   ]
  },
  {
   "cell_type": "code",
   "execution_count": null,
   "id": "12f163bc-203f-4b79-9553-fafdeb24ddb5",
   "metadata": {},
   "outputs": [],
   "source": [
    "list(matrix([[1,2],[3,4]]))"
   ]
  },
  {
   "cell_type": "markdown",
   "id": "407a6e61-33fe-49aa-8ee8-3ada9070ff53",
   "metadata": {},
   "source": [
    "Ok, with those abilities, we can now add something to our initialization code that tries to interpret the intput as either a list of 8 integers or nested structure with 8 integers, and returns an error if it fails.  I'm going to give you a little structure for this:\n",
    "\n",
    "1. make an internal function called `_normalize(self, x)` (underscore means it's for internal use), which will take in `x` and try to stuff it into our box:  turn it into a list of 8 things.\n",
    "2. in `__init__` we want to call `self._normalize(x)` to do that work, before storing the result\n",
    "3. the function `_normalize` should be a big `try...except` so that any problems will get caught\n",
    "4. inside `try`, first make x into a list and then if it's length 8, return that\n",
    "5. if it's not length 8, assume it's in the other form and assign a,b,c,d,e,f,g,h appropriately (we practiced above) to return\n",
    "6. I've written the `except` clause for you with some explanation"
   ]
  },
  {
   "cell_type": "code",
   "execution_count": 22,
   "id": "8ef96b79-eb11-4950-94e9-1a3ba52ae3d2",
   "metadata": {},
   "outputs": [],
   "source": [
    "class BhargavaCube:\n",
    "\n",
    "    def __init__(self, x): # if you want access to yourself, you pass yourself as the first argument\n",
    "        flat = self._normalize(x)  # subroutine to shape check + flatten to list of length 8\n",
    "        self._entries = tuple(flat)  \n",
    "\n",
    "    def _normalize(self, x): # internal attributes and functions begin with underscore (meant not to be used by user)\n",
    "        try:\n",
    "            # put stuff\n",
    "        except (ValueError, TypeError) as e:\n",
    "                # wrong lengths or non-iterables at some level\n",
    "                # by just passing, we end up sending all errors to the last TypeError\n",
    "                pass\n",
    "        # if we get here, something went wrong so give a general error\n",
    "        raise TypeError(\"Expected 8 entries (flat) or a nested 2x2x2 array.\")"
   ]
  },
  {
   "cell_type": "code",
   "execution_count": null,
   "id": "b7a6c7d4-0b2e-4e25-ac44-aa3527d9b3e7",
   "metadata": {},
   "outputs": [],
   "source": [
    "# this should work\n",
    "B = BhargavaCube([1,2,3,4,5,6,7,8])\n",
    "C = BhargavaCube([[[1,2],[3,4]],[[5,6],[7,8]]])"
   ]
  },
  {
   "cell_type": "code",
   "execution_count": null,
   "id": "2ba6f967-57f0-4ca5-a2c4-6c7213f5205f",
   "metadata": {},
   "outputs": [],
   "source": [
    "# but this should not\n",
    "D = BhargavaCube([1,2,3,4],[6,7,8,9])"
   ]
  },
  {
   "cell_type": "code",
   "execution_count": null,
   "id": "bdb96fe3-44f6-480d-9ac4-daadd5d27d15",
   "metadata": {},
   "outputs": [],
   "source": [
    "# and neither should this\n",
    "D = BhargavaCube([[1,2,3,4],[6,7,8,9]])"
   ]
  },
  {
   "cell_type": "code",
   "execution_count": null,
   "id": "03f52a0b-4de4-49c8-8a0c-779a3a1d9044",
   "metadata": {},
   "outputs": [],
   "source": [
    "# this works, which is because strings are treated a lot like lists\n",
    "E = BhargavaCube(\"12345678\")"
   ]
  },
  {
   "cell_type": "code",
   "execution_count": null,
   "id": "1778f4c3-5bdb-48a3-af44-1dff9b1d2ab2",
   "metadata": {},
   "outputs": [],
   "source": [
    "# and even more weirdly, this still works\n",
    "F = BhargavaCube([\"hi\",3,[2,3],False,5,6,7,8])"
   ]
  },
  {
   "cell_type": "markdown",
   "id": "dd424aaf-0f15-4790-b7d8-d239138b8fe1",
   "metadata": {},
   "source": [
    "So we probably don't want that last thing to work.  So now we can try to make sure the class coerces the entries to integers.  To check the type of something, we can do this."
   ]
  },
  {
   "cell_type": "code",
   "execution_count": null,
   "id": "5cf39c40-ea19-45a0-a737-19e899e9db49",
   "metadata": {},
   "outputs": [],
   "source": [
    "n = 3\n",
    "n.parent()"
   ]
  },
  {
   "cell_type": "markdown",
   "id": "d2f50836-88f4-4e54-abb5-69b4d401e4c4",
   "metadata": {},
   "source": [
    "To (attempt to) change the type of something, you just wrap it."
   ]
  },
  {
   "cell_type": "code",
   "execution_count": null,
   "id": "7c01d061-df44-4f0b-9673-7768b868cd9f",
   "metadata": {},
   "outputs": [],
   "source": [
    "m = QQ(n) # change n into a rational (QQ)\n",
    "print(m) # I want to display two things in this cell, but only the last command gets its result printed, so here I print\n",
    "m.parent() # but here I don't"
   ]
  },
  {
   "cell_type": "markdown",
   "id": "130ac4a8-f418-457b-a64e-60fc4bbda990",
   "metadata": {},
   "source": [
    "Try coercing your rational number 3 back to an integer 3."
   ]
  },
  {
   "cell_type": "code",
   "execution_count": 30,
   "id": "7963209d-ce35-40b8-a269-9db615e79010",
   "metadata": {},
   "outputs": [],
   "source": []
  },
  {
   "cell_type": "code",
   "execution_count": null,
   "id": "e85bbc29-6b16-4a8a-9b0d-e6c350e2c560",
   "metadata": {},
   "outputs": [],
   "source": [
    "# will this work?\n",
    "p = ZZ(3/2)"
   ]
  },
  {
   "cell_type": "markdown",
   "id": "593e2362-b82c-4e5b-8a4e-1f82da73aba7",
   "metadata": {},
   "source": [
    "So the code we had already for our class was getting 8 things, but not making them integers.  Make them integers!\n",
    "\n",
    "While you're at it, add some documentation to your code.  You can use # for code comments, and you can put code descriptions in between `\"\"\"` (these are called docstrings).  When you add docstrings to classes and functions, python offers ways to get this info, like `help(object)`."
   ]
  },
  {
   "cell_type": "code",
   "execution_count": 32,
   "id": "706e4ce3-eb05-4a28-a325-aaa54496737f",
   "metadata": {},
   "outputs": [],
   "source": [
    "class BhargavaCube:\n",
    "    # The following is a description of your class and how it is used.\n",
    "    \"\"\"\n",
    "    PUT STUFF HERE.\n",
    "    \"\"\"\n",
    "    \n",
    "    def __init__(self, x):\n",
    "        flat = self._normalize(x)  # subroutine to shape check + flatten to list of length 8\n",
    "        # put a coercion attempt here (wrap it in try)\n",
    "\n",
    "        self._entries = tuple(flat)  \n",
    "\n",
    "    def _normalize(self, x): \n",
    "        \"\"\"Describe me.\"\"\"\n",
    "        try:\n",
    "            lisx = list(x)\n",
    "            if len(lisx) == 8:\n",
    "                return lisx\n",
    "            else:\n",
    "                ((a,b),(c,d)), ((e,f),(g,h)) = x\n",
    "                return [a,b,c,d,e,f,g,h]\n",
    "        except (ValueError, TypeError) as e:\n",
    "                # wrong lengths or non-iterables at some level\n",
    "                # by just passing, we end up sending all errors to the last TypeError\n",
    "                pass\n",
    "        # if we get here, something went wrong so give a general error\n",
    "        raise TypeError(\"Expected 8 entries (flat) or a nested 2x2x2 array.\")"
   ]
  },
  {
   "cell_type": "code",
   "execution_count": 33,
   "id": "c717d431-df2b-4d63-a5a7-def7fbc6524b",
   "metadata": {},
   "outputs": [],
   "source": [
    "# try again\n",
    "F = BhargavaCube([1,2,3,4,5,6,7,8])"
   ]
  },
  {
   "cell_type": "code",
   "execution_count": null,
   "id": "7eb47fd2-ea77-439c-8f3d-44e5cc691dee",
   "metadata": {},
   "outputs": [],
   "source": [
    "# try again\n",
    "F = BhargavaCube([\"hi\",3,[2,3],False,5,6,7,8])"
   ]
  },
  {
   "cell_type": "code",
   "execution_count": null,
   "id": "b7858bb8-bfe9-41a8-aa43-1b312299e046",
   "metadata": {},
   "outputs": [],
   "source": [
    "# try this\n",
    "help(BhargavaCube)"
   ]
  },
  {
   "cell_type": "markdown",
   "id": "9d3df3a2-5749-42cf-a2a8-bdf7f50aca30",
   "metadata": {},
   "source": [
    "Ok, but so far our class doesn't do much.  We need a way to display what the cube looks like at a given moment.  This is defined using the built-in function `__repr__` (like `__init__`, this is a pre-defined function name for a specific task).  We want to add this function to your class.  Some experience with how to display variables will help, so here's a quick experiment cell."
   ]
  },
  {
   "cell_type": "code",
   "execution_count": null,
   "id": "7522c928-60e7-492e-b1dc-7abc00eb942a",
   "metadata": {},
   "outputs": [],
   "source": [
    "# check this out!\n",
    "a, b = 1, 2\n",
    "mystring = f\"I like when my {a} tastes yummy like {b}!\" # notice the f\n",
    "mystring"
   ]
  },
  {
   "cell_type": "code",
   "execution_count": 41,
   "id": "b4664a51-53e0-42b9-a513-1c8922c4fe70",
   "metadata": {},
   "outputs": [],
   "source": [
    "class BhargavaCube:\n",
    "    \"\"\"\n",
    "    Entries are 8 scalars arranged as two 2x2 layers:\n",
    "      front: [[a, b],\n",
    "             [c, d]]\n",
    "      rear: [[e, f],\n",
    "             [g, h]]\n",
    "    Accepts either a flat length-8 array [a,b,c,d,e,f,g,h]\n",
    "    or a pair of pairs of pairs (nested array) \n",
    "         [ [[a, b], [c, d]], [[e, f], [g, h]] ]\n",
    "    \"\"\"\n",
    "\n",
    "    def __init__(self, x):\n",
    "        flat = self._normalize(x)  # subroutine to shape check + flatten to list of length 8\n",
    "        try:\n",
    "            flat = [ZZ(v) for v in flat]\n",
    "        except Exception as e:\n",
    "            raise TypeError(\"Coercion to 8 integers failed.\") from e\n",
    "        self._entries = tuple(flat)  \n",
    "\n",
    "    def __repr__(self):\n",
    "        # put something here\n",
    "\n",
    "\n",
    "    def _normalize(self, x): \n",
    "        \"\"\"Return a flat list of 8 entries; raise error otherwise.\"\"\"\n",
    "        try:\n",
    "            lisx = list(x)\n",
    "            if len(lisx) == 8:\n",
    "                return lisx\n",
    "            else:\n",
    "                ((a,b),(c,d)), ((e,f),(g,h)) = x\n",
    "                return [a,b,c,d,e,f,g,h]\n",
    "        except (ValueError, TypeError) as e:\n",
    "                # wrong lengths or non-iterables at some level\n",
    "                # by just passing, we end up sending all errors to the last TypeError\n",
    "                pass\n",
    "        # if we get here, something went wrong so give a general error\n",
    "        raise TypeError(\"Expected 8 entries (flat) or a nested 2x2x2 array.\")"
   ]
  },
  {
   "cell_type": "code",
   "execution_count": null,
   "id": "3991ecf5-8afd-4791-9d5c-1b580eaec365",
   "metadata": {},
   "outputs": [],
   "source": [
    "E = BhargavaCube([1,2,3,4,5,6,7,8])\n",
    "E"
   ]
  },
  {
   "cell_type": "markdown",
   "id": "abc1538c-70e3-4dfa-992f-5775e7602f58",
   "metadata": {},
   "source": [
    "Next up!  This is a cube, so it has three viewpoints.  Think of a Rubik's cube you are holding in your hand.  You can view it from any of six directions, and from any of these directions, there are four ways to orient it.  That's too many.  We actually care just about these three:\n",
    "```\n",
    "[a,b]    [e,f]\n",
    "[c,d]    [g,h]\n",
    "\n",
    "and\n",
    "\n",
    "[a,e]    [c,g]\n",
    "[b,f]    [d,h]\n",
    "\n",
    "and\n",
    "\n",
    "[a,c]    [b,d]\n",
    "[e,g]    [f,h]\n",
    "```\n",
    "Essentially, these correspond to cyclically reordering the indices:  if a_{i,j,k} is the entries of the first cube, then a_{j,k,i} is the entries of the rotated cube.  In all cases, the diagonal is $a, h$.  These are the 3d notions of `transpose'.\n",
    "\n",
    "Now we will implement a method `.rotate(i)` in our class, which will rotate `i` times.  It only depends on i mod 3."
   ]
  },
  {
   "cell_type": "code",
   "execution_count": 44,
   "id": "912306de-816d-49de-bed2-0fb90abb2d87",
   "metadata": {},
   "outputs": [],
   "source": [
    "class BhargavaCube:\n",
    "    \"\"\"\n",
    "    Entries are 8 scalars arranged as two 2x2 layers:\n",
    "      front: [[a, b],\n",
    "             [c, d]]\n",
    "      rear: [[e, f],\n",
    "             [g, h]]\n",
    "    Accepts either a flat length-8 array [a,b,c,d,e,f,g,h]\n",
    "    or a pair of pairs of pairs (nested array) \n",
    "         [ [[a, b], [c, d]], [[e, f], [g, h]] ]\n",
    "    \"\"\"\n",
    "\n",
    "    def __init__(self, x):\n",
    "        flat = self._normalize(x)  # subroutine to shape check + flatten to list of length 8\n",
    "        try:\n",
    "            flat = [ZZ(v) for v in flat]\n",
    "        except Exception as e:\n",
    "            raise TypeError(\"Coercion to 8 integers failed.\") from e\n",
    "        self._entries = tuple(flat)  \n",
    "\n",
    "    def __repr__(self):\n",
    "        a,b,c,d,e,f,g,h = self._entries\n",
    "        return f\"BhargavaCube([{a}, {b}, {c}, {d}, {e}, {f}, {g}, {h}])\" \n",
    "\n",
    "    def rotate(self, i=1): # by putting a default value for i we allow it to be left off\n",
    "        # put something here\n",
    "\n",
    "\n",
    "    def _normalize(self, x): \n",
    "        \"\"\"Return a flat list of 8 entries; raise error otherwise.\"\"\"\n",
    "        try:\n",
    "            lisx = list(x)\n",
    "            if len(lisx) == 8:\n",
    "                return lisx\n",
    "            else:\n",
    "                ((a,b),(c,d)), ((e,f),(g,h)) = x\n",
    "                return [a,b,c,d,e,f,g,h]\n",
    "        except (ValueError, TypeError) as e:\n",
    "                # wrong lengths or non-iterables at some level\n",
    "                # by just passing, we end up sending all errors to the last TypeError\n",
    "                pass\n",
    "        # if we get here, something went wrong so give a general error\n",
    "        raise TypeError(\"Expected 8 entries (flat) or a nested 2x2x2 array.\")"
   ]
  },
  {
   "cell_type": "code",
   "execution_count": null,
   "id": "c329074b-e391-402e-8684-ec67593b5e0f",
   "metadata": {},
   "outputs": [],
   "source": [
    "E = BhargavaCube([1,2,3,4,5,6,7,8])\n",
    "print(E)\n",
    "E.rotate()\n",
    "print(E)"
   ]
  },
  {
   "cell_type": "markdown",
   "id": "c9a04ff0-a1de-4a60-8833-d866a650d1fa",
   "metadata": {},
   "source": [
    "Great!  Now, let's compute some things from our BhargavaCube.  There's actually a reason these things are interesting!\n",
    "\n",
    "If the front and rear slices of the cube are matrices A and B, then we can define a quadratic form:\n",
    "$$ Q(x,y) = \\operatorname{det}(Ax + By) $$\n",
    "We can do the same in each of the other directions.  So a BhargavaCube gives us a collection of three integral binary quadratic forms.  Here's how we can define a quadratic form in Sage:"
   ]
  },
  {
   "cell_type": "code",
   "execution_count": 47,
   "id": "e688eb46-3332-4d03-be95-e2f01864c71e",
   "metadata": {},
   "outputs": [],
   "source": [
    "R.<x, y> = ZZ[] # this is notation for defining a polynomial ring over ZZ with variables x and y.\n",
    "B = BinaryQF(x^2 + 2*x*y + 3*y^2) # now x and y mean something so we can make a QF"
   ]
  },
  {
   "cell_type": "markdown",
   "id": "8de98c7f-27f9-466c-982d-eddd79165b29",
   "metadata": {},
   "source": [
    "By the way, you can do things with BQFs, check out some of the functions on them.  How do you get the discriminant?"
   ]
  },
  {
   "cell_type": "code",
   "execution_count": null,
   "id": "0753d66b-cea6-42ad-8a00-2946e11b856b",
   "metadata": {},
   "outputs": [],
   "source": []
  },
  {
   "cell_type": "markdown",
   "id": "bdbd9af4-77cf-41c4-8cb7-d5747558b3a2",
   "metadata": {},
   "source": [
    "Add code to your class to compute these three quadratic forms and their discriminants.\n",
    "\n",
    "Before you jump in, consider that it will be more efficient to compute these once upon initialization and just have functions to access the info (stored as an attribute), instead of computing them every single time someone calls for them."
   ]
  },
  {
   "cell_type": "code",
   "execution_count": 50,
   "id": "d705adeb-d127-4dfa-92c2-db27594a25d5",
   "metadata": {},
   "outputs": [],
   "source": [
    "class BhargavaCube:\n",
    "    \"\"\"\n",
    "    Entries are 8 scalars arranged as two 2x2 layers:\n",
    "      front: [[a, b],\n",
    "             [c, d]]\n",
    "      rear: [[e, f],\n",
    "             [g, h]]\n",
    "    Accepts either a flat length-8 array [a,b,c,d,e,f,g,h]\n",
    "    or a pair of pairs of pairs (nested array) \n",
    "         [ [[a, b], [c, d]], [[e, f], [g, h]] ]\n",
    "    \"\"\"\n",
    "\n",
    "    def __init__(self, x):\n",
    "        \n",
    "        flat = self._normalize(x)  # subroutine to shape check + flatten to list of length 8\n",
    "        try:\n",
    "            flat = [ZZ(v) for v in flat]\n",
    "        except Exception as e:\n",
    "            raise TypeError(\"Coercion to 8 integers failed.\") from e\n",
    "        self._entries = tuple(flat)  \n",
    "        \n",
    "        # add code here to compute the three forms and discriminants and store them in attributes\n",
    "    \n",
    "      \n",
    "    def _form(self,a,b,c,d,e,f,g,h):\n",
    "        R.<x, y> = ZZ[]\n",
    "        A = matrix([[a,b],[c,d]])\n",
    "        B = matrix([[e,f],[g,h]])\n",
    "        form = BinaryQF((A*x + B*y).determinant())\n",
    "        disc = form.discriminant()\n",
    "        return form, disc\n",
    "\n",
    "    def __repr__(self):\n",
    "        a,b,c,d,e,f,g,h = self._entries\n",
    "        return f\"BhargavaCube([{a}, {b}, {c}, {d}, {e}, {f}, {g}, {h}])\"\n",
    "\n",
    "    def form(self, dir):\n",
    "        # dir = 0,1,2 representing the direction (there are three ways to slice a cube)\n",
    "        # add code here to expose the correct quadratic form\n",
    "        \n",
    "\n",
    "    def disc(self, dir):\n",
    "        # returns the discriminant of self.form(dir)\n",
    "        # add code here to expose the correct discriminant\n",
    "        \n",
    "\n",
    "    def rotate(self, i=1): # by putting a default value for i we allow it to be left off\n",
    "        \"\"\"Rotate the cube\"\"\"\n",
    "        # remember to update the forms when rotating!!\n",
    "\n",
    "        # rotate entries\n",
    "        a,b,c,d,e,f,g,h = self._entries\n",
    "        self._entries = a,e,b,f,c,g,d,h\n",
    "\n",
    "        # rotate forms\n",
    "\n",
    "\n",
    "    def _normalize(self, x): \n",
    "        \"\"\"Return a flat list of 8 entries; raise error otherwise.\"\"\"\n",
    "        try:\n",
    "            lisx = list(x)\n",
    "            if len(lisx) == 8:\n",
    "                return lisx\n",
    "            else:\n",
    "                ((a,b),(c,d)), ((e,f),(g,h)) = x\n",
    "                return [a,b,c,d,e,f,g,h]\n",
    "        except (ValueError, TypeError) as e:\n",
    "                # wrong lengths or non-iterables at some level\n",
    "                # by just passing, we end up sending all errors to the last TypeError\n",
    "                pass\n",
    "        # if we get here, something went wrong so give a general error\n",
    "        raise TypeError(\"Expected 8 entries (flat) or a nested 2x2x2 array.\")"
   ]
  },
  {
   "cell_type": "code",
   "execution_count": null,
   "id": "4cc7677e-36f5-4435-a291-89bc6d61ff5a",
   "metadata": {},
   "outputs": [],
   "source": [
    "E = BhargavaCube([1,2,3,4,5,60,7,8])\n",
    "E"
   ]
  },
  {
   "cell_type": "code",
   "execution_count": null,
   "id": "aa0e0473-9c48-43fc-98ef-5230960592b8",
   "metadata": {},
   "outputs": [],
   "source": [
    "E.form(0)"
   ]
  },
  {
   "cell_type": "code",
   "execution_count": null,
   "id": "c58f9a8d-fb6f-444b-8e55-dacf398aefd9",
   "metadata": {},
   "outputs": [],
   "source": [
    "E._forms"
   ]
  },
  {
   "cell_type": "code",
   "execution_count": null,
   "id": "21a052c4-71c8-4f2f-ada6-5f5af3870467",
   "metadata": {},
   "outputs": [],
   "source": [
    "E._discs"
   ]
  },
  {
   "cell_type": "code",
   "execution_count": null,
   "id": "30421fa0-323a-4969-8ece-6dbc069633c8",
   "metadata": {},
   "outputs": [],
   "source": [
    "# let's try rotating\n",
    "E.rotate(); E"
   ]
  },
  {
   "cell_type": "code",
   "execution_count": null,
   "id": "d7cf8a4f-1cf4-499d-85d9-71af78b83669",
   "metadata": {},
   "outputs": [],
   "source": [
    "E._forms"
   ]
  },
  {
   "cell_type": "code",
   "execution_count": null,
   "id": "891b2aec-dd04-4a9c-847f-d3decb3ea7cb",
   "metadata": {},
   "outputs": [],
   "source": [
    "E._discs"
   ]
  },
  {
   "cell_type": "code",
   "execution_count": null,
   "id": "56c98aa7-14c8-4fba-9217-aefe165ee468",
   "metadata": {},
   "outputs": [],
   "source": [
    "# now I'm going to initialize the once-rotated cube from scratch\n",
    "F = BhargavaCube([1, 3, 5, 7, 2, 4, 60, 8])"
   ]
  },
  {
   "cell_type": "code",
   "execution_count": null,
   "id": "b2a4c92c-026a-4527-bfaa-4ab8ae61d58e",
   "metadata": {},
   "outputs": [],
   "source": [
    "# and make sure the forms are the same as if I initialized and then rotated\n",
    "F.forms()"
   ]
  },
  {
   "cell_type": "code",
   "execution_count": null,
   "id": "89930baf-32a4-4577-ab6d-ffcf482f8d1f",
   "metadata": {},
   "outputs": [],
   "source": [
    "F._discs"
   ]
  },
  {
   "cell_type": "markdown",
   "id": "3df8205a-c66f-45eb-bcab-88604e21aeed",
   "metadata": {},
   "source": [
    "Do you notice anything about the discriminants?  Try more examples, what is your conjecture?\n",
    "\n",
    "In fact, any integer cube has a well-defined discriminant and represents three quadratic forms of that discriminant.  A famous result in number theory puts quadratic forms of a given discriminant in bijection with ideals of the ring of integers of that discriminant.  So a Bhargava cube represents three ideals from a quadratic ring.  What Bhargava showed is that not only are they from the same ring, but if the ideals are $I_1$, $I_2$, $I_3$ then $I_1 \\cdot I_2 \\cdot I_3 = id$ in the class group!"
   ]
  },
  {
   "cell_type": "markdown",
   "id": "fb99bf23-7a91-4eb6-851e-9de11988e562",
   "metadata": {},
   "source": [
    "If you would like to do more, there is an $\\operatorname{SL}(2,\\mathbb{Z})$ action on the Bhargava cube by multiplying both slices simultaneously by a matrix from the left.  By rotating, there's three different actions.  Bhargava describes a method of `reduction of cubes' along the lines of reduction of quadratic forms.  His annals paper on this is is very readable."
   ]
  },
  {
   "cell_type": "code",
   "execution_count": null,
   "id": "8b1eb0c0-ca30-4a36-9f7f-8301bc2841cd",
   "metadata": {},
   "outputs": [],
   "source": []
  },
  {
   "cell_type": "code",
   "execution_count": null,
   "id": "db2ae833-e3a8-423d-a3da-a2cdba5d0c5d",
   "metadata": {},
   "outputs": [],
   "source": []
  }
 ],
 "metadata": {
  "kernelspec": {
   "display_name": "SageMath 10.5.beta6",
   "language": "sage",
   "name": "sagemath"
  },
  "language_info": {
   "codemirror_mode": {
    "name": "ipython",
    "version": 3
   },
   "file_extension": ".py",
   "mimetype": "text/x-python",
   "name": "python",
   "nbconvert_exporter": "python",
   "pygments_lexer": "ipython3",
   "version": "3.12.3"
  }
 },
 "nbformat": 4,
 "nbformat_minor": 5
}
