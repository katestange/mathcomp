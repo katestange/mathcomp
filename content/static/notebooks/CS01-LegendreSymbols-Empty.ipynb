{
 "cells": [
  {
   "cell_type": "markdown",
   "id": "611fc9e6-f420-44e9-b0d2-7ba6d6105f6f",
   "metadata": {},
   "source": [
    "# Welcome to Sage\n",
    "\n",
    "In a Jupyter notebook, you can type commands and when you type shift-enter, the kernel (sage) will respond.\n",
    "\n",
    "Type 2+2 (or another favourite basic arithmetic problem) in the following \"cell\" and then shift-enter."
   ]
  },
  {
   "cell_type": "code",
   "execution_count": null,
   "id": "c1f840d1-6957-4220-b842-965f370c0817",
   "metadata": {},
   "outputs": [],
   "source": []
  },
  {
   "cell_type": "markdown",
   "id": "cccfe20d-439b-49c0-8edf-c1d627834139",
   "metadata": {},
   "source": [
    "The first thing we need to make this more useful is memory, i.e. variables.  Keep in mind that the order you interact with the kernel is what matters for working memory (the order you run cells, which is shown as a number in light grey left of the cell), not the order the cells appear in the notebook.  If you ever need to start over, there's a \"reload circle\" icon above, which restarts the kernel (wiping working memory).\n",
    "\n",
    "Here's an example of assigning a quantity to a variable (a single ``=`` sign).  This has several commands in a row.  Before you evaluate, what do you expect the answer to be?"
   ]
  },
  {
   "cell_type": "code",
   "execution_count": null,
   "id": "cb567d61-4a87-4bfd-a8a4-8b2dac8b83b2",
   "metadata": {},
   "outputs": [],
   "source": [
    "n = 5\n",
    "m = 3\n",
    "233^2"
   ]
  },
  {
   "cell_type": "markdown",
   "id": "bafc18b9-20dc-41d9-9e88-a0d4c78d61fa",
   "metadata": {},
   "source": [
    "One other really important thing to know is how to look up commands as needed.  There are various ways to discover or learn about a command:\n",
    "\n",
    "1. Start typing what you think it is called and then hit ``tab`` which will show tab-completion suggestions.\n",
    "2. If you think you have the command name and want to know what it does, type the name followed by a ``?`` and shift-enter will show the documentation.  (To get rid of the docs, just use the cell for something else and run it.)\n",
    "3. Google \"sagemath <function/name/command/concept>\" and you may find the command you want.\n",
    "4. Sometimes, what you want is actually just a programming language thing, so googling \"python <function/name/command/concept>\" will be useful.\n",
    "5. ChatGPT may answer your questions.  It will still typically hallucinate commands when Sage is lacking functionality, so take your GPT with a grain of salt, as usual.\n",
    "6. Look in the Sage Reference Manual.  [https://doc.sagemath.org/html/en/reference/index.html](https://doc.sagemath.org/html/en/reference/index.html)\n",
    "\n",
    "In the next three cells, try all of these methods.  Figure out how to compute $sin(2\\pi/3)$, $\\sqrt{54289}$ and the elliptic curve with defining equation $y^2 = x^3 + 2$ over the rational numbers."
   ]
  },
  {
   "cell_type": "code",
   "execution_count": null,
   "id": "ea249fb0-7394-4491-a1f7-ab2bafa9748a",
   "metadata": {},
   "outputs": [],
   "source": []
  },
  {
   "cell_type": "code",
   "execution_count": null,
   "id": "bf091b43-277f-4e4e-a8c8-56001755df79",
   "metadata": {},
   "outputs": [],
   "source": []
  },
  {
   "cell_type": "code",
   "execution_count": null,
   "id": "3a7acb78-6665-47e3-b430-fb4163e25e14",
   "metadata": {},
   "outputs": [],
   "source": []
  },
  {
   "cell_type": "markdown",
   "id": "3e18bc8b-04fe-4b01-92d0-d581522ea9a8",
   "metadata": {},
   "source": [
    "Finally, if you ever need more cells in the notebook, you can click the icons on the right of a code cell (or uncompiled markdown cell) to create new ones, copy or delete a cell, or move it up or down relative to what you have already.  Try that out now."
   ]
  },
  {
   "cell_type": "code",
   "execution_count": null,
   "id": "33228f2e-31e7-4912-811f-03667ec8d066",
   "metadata": {},
   "outputs": [],
   "source": []
  },
  {
   "cell_type": "markdown",
   "id": "9a0003f9-30d5-4212-b993-f4b58b0a4190",
   "metadata": {},
   "source": [
    "# Case Study 1:  Quadratic Residues\n",
    "\n",
    "## Modular Arithmetic \n",
    "\n",
    "We will begin with modular arithmetic.  Here's how we can compute some stuff in the ring $\\mathbb{Z}/m\\mathbb{Z}$.\n",
    "\n",
    "Note:  the instructions you are reading in this cell are in markdown.  Double-click this text to see what the markdown looks like before it is compiled.  It reads latex.  Shift-enter to recompile the markdown.  Each cell is either markdown or code (change this with the drop down menu above).\n",
    "\n",
    "For the next cell, figure out what you think it does, then type shift-enter to make it run.\n",
    "\n",
    "Notice that ``#`` declares a comment (notes to self that the kernel ignores)."
   ]
  },
  {
   "cell_type": "code",
   "execution_count": null,
   "id": "699ef938-176e-47f8-ab79-f3dc1f9609a1",
   "metadata": {},
   "outputs": [],
   "source": [
    "m = 53; R = IntegerModRing(m) # you can use a semicolon or a carriage return between commands\n",
    "R(17)^2 # this notation R(17) tells Sage that it should think of 17 as an element of R"
   ]
  },
  {
   "cell_type": "markdown",
   "id": "6c71a451-c73c-4a35-af24-167d76c543f5",
   "metadata": {},
   "source": [
    "Compute the inverse of 3 modulo 7 (you can use exponent -1 notation).  You should get 5."
   ]
  },
  {
   "cell_type": "code",
   "execution_count": null,
   "id": "0b3d1286-49cb-4318-b7ea-3973def13a23",
   "metadata": {},
   "outputs": [],
   "source": []
  },
  {
   "cell_type": "markdown",
   "id": "f06b7f79-fba9-4443-bb39-715379ec034b",
   "metadata": {},
   "source": [
    "There's also a super quick mod command when you don't want to create the ring as a sage object; this is ``mod(a,b)`` or ``Mod(a,b)``.  Try it.  It just returns an integer (smallest non-negative residue), not an element of an IntegerModRing.  Types are important in Sage!"
   ]
  },
  {
   "cell_type": "code",
   "execution_count": null,
   "id": "96044601-669d-40d8-b007-a7d633b94dc6",
   "metadata": {},
   "outputs": [],
   "source": []
  },
  {
   "cell_type": "markdown",
   "id": "266ef6ee-1449-4d77-a6c2-1c06ac4ef20a",
   "metadata": {},
   "source": [
    "Run the following cell.  Why does it fail?  Clue: order of operations."
   ]
  },
  {
   "cell_type": "code",
   "execution_count": null,
   "id": "a8a9fac0-34f8-4057-9fe7-a2646bcb901d",
   "metadata": {},
   "outputs": [],
   "source": [
    "mod(2^1700000000000000000000000000000000000000000000000000000000000000000000000000000000,10)"
   ]
  },
  {
   "cell_type": "markdown",
   "id": "5ead6451-2cfa-4fe5-a0ab-f31cc24b8de9",
   "metadata": {},
   "source": [
    "In the next cell, fix the syntax in the cell above so it will run and return the correct answer, which is 6."
   ]
  },
  {
   "cell_type": "code",
   "execution_count": null,
   "id": "6f33496a-c9f8-4bf5-bfa1-478fb6f247ad",
   "metadata": {},
   "outputs": [],
   "source": []
  },
  {
   "cell_type": "markdown",
   "id": "8c93827c-e9e5-4f62-b195-6f072d34d2d4",
   "metadata": {},
   "source": [
    "## Visualizing Modular Arithmetic\n",
    "\n",
    "Let's get visual.  Let's fix a modulus for now (we'll reset $m$ and $R$ in case you changed them).  To visualize modular arithmetic, one approach is a clock face.  We can create a graphics object and add things on to it."
   ]
  },
  {
   "cell_type": "code",
   "execution_count": null,
   "id": "d7443690-2a3a-4134-aea9-f132f51dfe40",
   "metadata": {},
   "outputs": [],
   "source": [
    "m = 53\n",
    "R = IntegerModRing(m)\n",
    "clock = Graphics() # make an empty graphics object\n",
    "# the command '+=' says add the thing on the right to the existing thing on the left\n",
    "clock += circle( (0,0), 1, color=\"red\" ) # center, radius, color "
   ]
  },
  {
   "cell_type": "markdown",
   "id": "2a0d0207-70c1-452a-9d18-f7b866d69f32",
   "metadata": {},
   "source": [
    "To see the clock at any time we are working on it, you can use ``show()``.  Turn the axes on and off.  Try ``frame=True``.  Try setting the field of view to see only the lower left quadrant, using ``xmin =`` and its cousins ``xmax, ymin, ymax``.  Make the image bigger or smaller with ``figsize``.  The arguments of ``show()`` are separated by commas."
   ]
  },
  {
   "cell_type": "code",
   "execution_count": null,
   "id": "42a94de7-3239-4ea5-89c2-30041524e6b8",
   "metadata": {},
   "outputs": [],
   "source": [
    "clock.show(axes=True, frame=False)"
   ]
  },
  {
   "cell_type": "markdown",
   "id": "65309b82-ce8e-4138-800e-43165c60f028",
   "metadata": {},
   "source": [
    "Now define a function that returns the x,y coordinates of the k-th notch on the clock of radius r centred at the origin.  Please start your clock from zero at the top and increase clockwise (those who choose a different normalization shall be given twenty lashes)."
   ]
  },
  {
   "cell_type": "code",
   "execution_count": null,
   "id": "36b1c532-e693-40ec-9881-61812266baf6",
   "metadata": {},
   "outputs": [],
   "source": [
    "# here's a skeleton function definition\n",
    "# function name is notch (don't change this, so we can refer to it later)\n",
    "# inputs are variables k and r\n",
    "def notch(k, r):  \n",
    "    # k is notch\n",
    "    # r is radius\n",
    "    # maybe run commands here that depend on inputs k and r\n",
    "    x = # fill this in\n",
    "    y = # fill this in\n",
    "    return (x,y)  # 'return' declares the output of the function"
   ]
  },
  {
   "cell_type": "markdown",
   "id": "b26295c5-9060-40e4-9443-035bdf739823",
   "metadata": {},
   "source": [
    "Now test your function, it should return ``(0,1)`` on input ``(0,1)`` and ``(sin(2/53*pi), cos(2/53*pi))`` on input ``(1, 1)``"
   ]
  },
  {
   "cell_type": "code",
   "execution_count": null,
   "id": "75e4cf7d-5796-475e-b8d5-7478f71bbe7b",
   "metadata": {},
   "outputs": [],
   "source": []
  },
  {
   "cell_type": "markdown",
   "id": "aa77fd53-bc7c-4281-a3aa-9c5fbf7e3324",
   "metadata": {},
   "source": [
    "Now we want to place dots around your clock face and label them with numbers.  Because you want to place a lot of notches, you'll want to use one of the most useful programming constructions in python:  a ``for`` loop.  So before we handle the clock I want to give you an example.  Before you run this cell, guess what the output will be.  Take careful account of exactly how many times it runs and what the varaible values are as it runs."
   ]
  },
  {
   "cell_type": "code",
   "execution_count": null,
   "id": "ddf7bb1b-2fa4-495b-aa5f-bceba8a45ef6",
   "metadata": {},
   "outputs": [],
   "source": [
    "count = 0\n",
    "for i in srange(5): # srange outputs integers one at a time\n",
    "    count += 1 # python cares about indentation, whatever is indented is inside the for loop\n",
    "    print(\"The value of i is:\", i) # Welcome to the python print statement, another trusty friend!\n",
    "print( \"I'm done!\" ) # no longer indented!\n",
    "print( \"My final count is: \", count)"
   ]
  },
  {
   "cell_type": "markdown",
   "id": "2298da19-7a0e-4e95-96bf-81a7dd38105e",
   "metadata": {},
   "source": [
    "Ok, now place dots around your clock face and label them with numbers.  You already have a graphics object ``clock`` which we want to add to.  You'll need the graphics objects ``point`` and ``text``.  You'll probably want to place your labels slightly outside the notches so they don't overlap the actual clock circle.  Display the result."
   ]
  },
  {
   "cell_type": "code",
   "execution_count": null,
   "id": "47cd379f-592c-4d2f-b7e0-e7dd10be996c",
   "metadata": {},
   "outputs": [],
   "source": []
  },
  {
   "cell_type": "markdown",
   "id": "eaf83b4c-64b1-4b3c-8352-d2dfea897b54",
   "metadata": {},
   "source": [
    "Now draw a line segment from each $x$ modulo $m$ to $a*x$ modulo $m$, where $a=2$.  This is a visual representation of multiplication by two.  "
   ]
  },
  {
   "cell_type": "code",
   "execution_count": null,
   "id": "9d0d7d2c-753e-4f8f-9274-6690c4305492",
   "metadata": {},
   "outputs": [],
   "source": []
  },
  {
   "cell_type": "markdown",
   "id": "75c4d659-8b2d-4c4e-8034-a3e48ad7a061",
   "metadata": {},
   "source": [
    "Make your picture as pretty as you like, maybe try different $a$ or $m$ (notice you have one graphics object called clock and you can't subtract from it, so you may need to reinitialize if you are changing $a$ or $m$ etc, otherwise you'll get a union of all the things you've drawn so far).  Then you can export it to an image file to decorate your door.  To do this, you simply replace the ``show(...`` command with ``save( \"myname.pdf\", ...``.  You can also save to png.  PDF is vector graphics, which means the quality is adaptive, whereas PNG is pixel graphics, and your choice of ``figsize`` will matter a lot to the quality.  Experiment until you have something cool to text to your mother.  Text your mother (or parent or guardian or zookeeper of choice)."
   ]
  },
  {
   "cell_type": "code",
   "execution_count": null,
   "id": "b4206c3e-8276-4f49-89f9-90081110d6fa",
   "metadata": {},
   "outputs": [],
   "source": [
    "clock.show()"
   ]
  },
  {
   "cell_type": "markdown",
   "id": "c8a9cf65-4f07-487b-9c4e-c3f1dd79b9ec",
   "metadata": {},
   "source": [
    "Now before we go further, a little tidyness.  You've created something you like (maybe), but it depended on various parameters, and to re-run and change things, you have to go back through the worksheet and re-run various cells.  Jupyter allows you to run cells out of order.  You can imagine this can become a mess pretty quickly.  So instead, let's build some compact tools out of the code you've created.  In one cell, write the following functions:  \n",
    "\n",
    "- ``notch(k,m)`` -- gives the coordinates of notch k mod m\n",
    "- ``clockface(m)`` -- creates a graphic object clock with notches modulo m and number labellings (uses ``notch``)\n",
    "- ``segment(k,l,m,col)`` -- creates a graphic object line from notch k to notch l of colour ``col`` (uses ``notch``)\n",
    "- ``multiplication(a,m)`` -- creates the full image of multiplication by a modulo m (using the functions above)\n",
    "- ``addition(a,m)`` -- creates the full image of addition by a modulo m (should be easy now!)"
   ]
  },
  {
   "cell_type": "code",
   "execution_count": null,
   "id": "a3a889db-e716-40b3-a008-eb28368fe449",
   "metadata": {},
   "outputs": [],
   "source": [
    "def notch(k, m, r):  \n",
    "\n",
    "def clockface(m):\n",
    "\n",
    "def segment(k,l,m,col):\n",
    "\n",
    "def multiplication(a,m):\n",
    "\n",
    "def addition(a,m):\n"
   ]
  },
  {
   "cell_type": "markdown",
   "id": "84fdf476-d442-4d95-82f8-b487d6127b2c",
   "metadata": {},
   "source": [
    "Does it work?  Let's see!"
   ]
  },
  {
   "cell_type": "code",
   "execution_count": null,
   "id": "6f9746a0-0522-4449-b9bf-381feab9fa3d",
   "metadata": {},
   "outputs": [],
   "source": [
    "multiplication(7,103).show()"
   ]
  },
  {
   "cell_type": "markdown",
   "id": "cc4008a4-7c90-41ca-8e25-1dde4e9a2a94",
   "metadata": {},
   "source": [
    "## Exploring quadratic residues\n",
    "\n",
    "Consider the integers modulo $m$.  A _quadratic residue_ (QR) is a residue $a$ modulo $m$ which is a non-zero square.  Other non-zero residues are called _quadratic nonresidues_ (QNR).  Zero doesn't get a special name; it's badly behaved and is sitting in the corner missing out on the party game.  The legendre symbol for an integer $a$ and prime $p$ is defined as\n",
    "\n",
    "$$ \\left( \\frac{a}{p} \\right) = \\left\\{ \\begin{array}{ll} 0 & a \\equiv 0 \\pmod p \\\\ 1 & a \\text{ is a QR mod $p$} \\\\ -1 & a \\text{ is a QNR mod $p$} \\end{array} \\right. $$"
   ]
  },
  {
   "cell_type": "code",
   "execution_count": null,
   "id": "0ba70a6a-63f4-41f7-a1d2-d887dd42773f",
   "metadata": {},
   "outputs": [],
   "source": [
    "legendre_symbol(3,17)"
   ]
  },
  {
   "cell_type": "markdown",
   "id": "61f2a4d3-6388-4312-adf2-8dd8749cd49b",
   "metadata": {},
   "source": [
    "An opportunity to learn about lists!  Let's create the (ordered) list of legendre symbol values for the residues modulo $17$.  To create a list, you can type ``mylist = []``.  To add things to your list, you can type ``mylist.append(mything)``.  First, try filling out your list with a for loop."
   ]
  },
  {
   "cell_type": "code",
   "execution_count": null,
   "id": "cea7e548-726f-4b8b-9e23-e3313bc4561a",
   "metadata": {},
   "outputs": [],
   "source": []
  },
  {
   "cell_type": "markdown",
   "id": "e6817cae-fc08-404c-9d79-f35d6787f370",
   "metadata": {},
   "source": [
    "You should get ``[0, 1, 1, -1, 1, -1, -1, -1, 1, 1, -1, -1, -1, 1, -1, 1, 1]``.  But python loves lists, so there's a more compact 'pythonic' way to create the same list, called 'list comprehension'.  Check this out:"
   ]
  },
  {
   "cell_type": "code",
   "execution_count": null,
   "id": "a3ab86da-1efd-4727-9408-8e0bcfde85b1",
   "metadata": {},
   "outputs": [],
   "source": [
    "mylist = [ legendre_symbol(i,17) for i in srange(17) ]\n",
    "mylist"
   ]
  },
  {
   "cell_type": "markdown",
   "id": "331eb13f-c241-462e-9625-31fb1247cec9",
   "metadata": {},
   "source": [
    "Ok that's just too much fun, sorry.  Use list comprehension to create a list of the values $f(k) = \\sum_{j=1}^k \\left( \\frac{j}{17} \\right)$ for $k$ from $0$ to $16$.  Wait, how do you add stuff up?  Use syntax on a list of values to add, like `sum([1,2,3])` (which gives 6)."
   ]
  },
  {
   "cell_type": "code",
   "execution_count": null,
   "id": "95275aa0-ac7a-4bdc-bf75-2b9e7198d2ab",
   "metadata": {},
   "outputs": [],
   "source": []
  },
  {
   "cell_type": "markdown",
   "id": "6340dbe5-b591-43ba-b3af-b0d54b4e8ae9",
   "metadata": {},
   "source": [
    "Sanity check:  you should get `[0, 1, 2, 1, 2, 1, 0, -1, 0, 1, 0, -1, -2, -1, -2, -1, 0]`.  Watch for indexing errors."
   ]
  },
  {
   "cell_type": "markdown",
   "id": "eea05c53-de2c-4ea7-86ba-dc5fa6490880",
   "metadata": {},
   "source": [
    "Now just for kicks, let's compare this to what we get if we use random values $1$ or $-1$ instead of legendre_symbols.  Python has a random value functionality `randint(a,b)` to return random integers between a and b (inclusive).  Adapt both of your list comprehensions above (the list of legendre-symbols and the list of partial sums).  Run it a few times to see random examples."
   ]
  },
  {
   "cell_type": "code",
   "execution_count": null,
   "id": "b59c8193-a664-4b04-83ad-781b5f941b2c",
   "metadata": {},
   "outputs": [],
   "source": []
  },
  {
   "cell_type": "code",
   "execution_count": null,
   "id": "e38a92a7-ff35-4685-8b31-4653ffbfefd7",
   "metadata": {},
   "outputs": [],
   "source": []
  },
  {
   "cell_type": "markdown",
   "id": "377d4a6d-2639-4b9e-9bde-d534f8f3301f",
   "metadata": {},
   "source": [
    "Do legendre_symbols look random?  We would like to explore a little.\n",
    "\n",
    "## Detour on Randomness\n",
    "\n",
    "Real randomness is not repeatable.  Neither is the randomness in python actually random -- it is pseudorandom.  We can get repeatable pseudorandomness by using a `seed'.  Here's how python does this for you."
   ]
  },
  {
   "cell_type": "code",
   "execution_count": null,
   "id": "136ae3d1-6f8c-4b39-87a7-99988bbbbafd",
   "metadata": {},
   "outputs": [],
   "source": [
    "# some functionality needs to be loaded before use\n",
    "import random \n",
    "\n",
    "# RNG = Random Number Generator\n",
    "# we will seed with the answer to life the universe and everything -- should work out well\n",
    "rng = random.Random(int(42)) # oh no, we get an error!  That's because 42 is a Sage integer not a Python integer.  Use `int(42)` instead.\n",
    "rng"
   ]
  },
  {
   "cell_type": "markdown",
   "id": "ff8cee3d-ac38-4cef-8d26-f4b445157431",
   "metadata": {},
   "source": [
    "To demonstrate our new rng, try running the next cell several times:  what does it do each time?"
   ]
  },
  {
   "cell_type": "code",
   "execution_count": null,
   "id": "dd03ff2b-1e56-40c5-af6d-372627e741ee",
   "metadata": {},
   "outputs": [],
   "source": [
    "# people sometimes use underscore for a throwaway variable (convention for readability)\n",
    "[rng.randint(1,10) for _ in range(10)] # fyi: range puts out python integers and srange puts out sage integers"
   ]
  },
  {
   "cell_type": "markdown",
   "id": "edfd6a43-2c4b-409c-8009-e80498f44288",
   "metadata": {},
   "source": [
    "By contrast, try running this cell repeatedly:  how is the behaviour different?"
   ]
  },
  {
   "cell_type": "code",
   "execution_count": null,
   "id": "9f152c75-c391-4184-b61a-dfd788bad694",
   "metadata": {},
   "outputs": [],
   "source": [
    "rng = random.Random(int(42))\n",
    "[rng.randint(1,10) for _ in range(10)]"
   ]
  },
  {
   "cell_type": "markdown",
   "id": "eec5fcba-82ab-4254-ba0f-17b195f6589e",
   "metadata": {},
   "source": [
    "What's happening is the \"seed\" is the \"starting point\" for the random-looking sequence of outputs.  Start at the same seed, and you'll always see the same sequence of pseudo-randomness.  Every time you call `randint` you get the next item of the pseudo-random sequence.\n",
    "\n",
    "Ok, cool, now we have repeatable pseudorandomness.  What's going on under the hood?  Here's a simple pseudo-random number generator called Blum-Blum-Shub.  Try changing the seed and watching it run.  Read the code, i.e. figure out exactly what it is doing."
   ]
  },
  {
   "cell_type": "code",
   "execution_count": null,
   "id": "7c9d3adc-f154-4682-b8ac-4e7b2871011f",
   "metadata": {},
   "outputs": [],
   "source": [
    "seed = 42\n",
    "modulus = next_prime(100)*next_prime(200)\n",
    "x = seed\n",
    "results = []\n",
    "for _ in range(20):\n",
    "    x = Mod(x^2,modulus)\n",
    "    results.append(Mod(x,2))\n",
    "results"
   ]
  },
  {
   "cell_type": "markdown",
   "id": "07fa325f-7a44-4e75-8ed7-4c2fc37fc728",
   "metadata": {},
   "source": [
    "It's not random at all, but it seems to behave quite randomly, statistically.  The study of pseudo-randomness is a deep subject.  We can use it for experiments, but keep in mind its pseudo-ness, because you may be on the edge of the known mathematical universe in your experiments.  Sometimes experiments turn up flaws in pseudo-random number generators.\n",
    "\n",
    "In fact, here's a challenge.  Find a flaw (feature?) of Blum-Blum-Shub:  a fundamental way in which its behaviour differs from true randomness.\n",
    "\n",
    "Now design your own pseudo-random number generator.  The goals are: (1) indistinguishability from true randomness (what should this mean?); (2) efficiency; (3) deterministic dependence on a seed value."
   ]
  },
  {
   "cell_type": "code",
   "execution_count": null,
   "id": "a5c11404-cf3f-413d-b863-c9d49aba54d2",
   "metadata": {},
   "outputs": [],
   "source": []
  },
  {
   "cell_type": "markdown",
   "id": "702cf3cf-df0c-4b35-860c-3f87254956d6",
   "metadata": {},
   "source": [
    "Python uses the [Mersenne Twister](https://en.wikipedia.org/wiki/Mersenne_Twister) pseudorandomness algorithm involving the Mersenne prime $2^{19937}-1$."
   ]
  },
  {
   "cell_type": "markdown",
   "id": "f9e8fd86-f37f-4d5d-a777-d615c93dd1aa",
   "metadata": {},
   "source": [
    "Shall we run some tests?\n",
    "\n",
    "First, let's take the mean and standard deviation.   There's a python package called `numpy` which has useful numerical methods.  Here's how we might test the mean and standard deviation of some random data."
   ]
  },
  {
   "cell_type": "code",
   "execution_count": null,
   "id": "bb008415-d3df-463e-9773-0b326eeac1be",
   "metadata": {},
   "outputs": [],
   "source": [
    "import numpy as np # people usually write \"as np\" to say we'll call our copy of numpy by that name\n",
    "\n",
    "data = [1, 1, 1, -1, -1, -1, -1, -1, 1, 1, -1, -1, 1, 1, 1, 1]\n",
    "\n",
    "print(\"mean:\", np.mean(data))\n",
    "print(\"standard deviation:\", np.std(data))"
   ]
  },
  {
   "cell_type": "markdown",
   "id": "800a1108-03d8-48a0-ac85-775f0064e430",
   "metadata": {},
   "source": [
    "There's a useful python package called `scipy` that is available in Sage.  It has various scientific computing methods.  In particular, it can do a chi-squared test."
   ]
  },
  {
   "cell_type": "code",
   "execution_count": null,
   "id": "dbaae83c-16b7-4ae4-b695-3d0b1bb5ce53",
   "metadata": {},
   "outputs": [],
   "source": [
    "from scipy import stats\n",
    "\n",
    "# we count the data into two bins (this automatically ranges the bins [-1,0) and [0,1], i.e -1 vs. 1)\n",
    "counts, _ = np.histogram(data, bins=2) # histogram produces two outputs, we only care about first\n",
    "print( \"Our counts :\", counts )\n",
    "\n",
    "# this is the chisquare test\n",
    "chi2, p = stats.chisquare(counts)\n",
    "print(\"Chi2:\", chi2, \"p:\", p)"
   ]
  },
  {
   "cell_type": "markdown",
   "id": "8e43c0d3-5e24-4c88-9e4d-74a84eb24b56",
   "metadata": {},
   "source": [
    "What does the [chi-square test](https://en.wikipedia.org/wiki/Chi-squared_test) do?  It checks if our data are distributed into the bins as expected.  Let $m_i$ be the expected number of data points in the $i$-th bin.  Let $x_i$ be the actual number of data points in the $i$-th bin.  Suppose we have $k$ data points.  Then\n",
    "$$ X^2 = \\sum_{i=1}^k  \\frac{ (x_i - m_i)^2 }{m_i} $$\n",
    "This variable $X^2$ should follow a chi-squared distribution if the data is distributed as expected.  \n",
    "\n",
    "We then run a [$p$-test](https://en.wikipedia.org/wiki/P-value), i.e. significance test.  This computes the probability, under the null hypothesis (the expected distribution, here, uniform), that the data produce a statistic at least as far from expected as that observed.  A small p value means that the result observed is unlikely under the null hypothesis.  You start getting nervous when $p < 0.05$ which means what you observed would only happen in 1 out of 20 experiments on null hypothesis (truly random) data.\n",
    "\n",
    "How do you feel about the data above?"
   ]
  },
  {
   "cell_type": "markdown",
   "id": "9ef03c6a-130e-46b5-bec2-c1d56a96990b",
   "metadata": {},
   "source": [
    "## Back to Quadratic Residues\n",
    "\n",
    "To create a model of the behaviour of legendre symbols, let's create a \"fake legendre symbol\" that is pseudo-random.  Your function should do the following:\n",
    "\n",
    "1. accept valid inputs (k,m) that are accepted by `legendre_symbol` (can assume m is prime)\n",
    "2. return 0 if k is 0 modulo m\n",
    "3. otherwise return -1 or 1\n",
    "4. the return value should depend only on k modulo m (so (1,5) and (6,5) return the same)\n",
    "5. otherwise return a deterministic (always the same for the same input k,m) but pseudorandom value in {-1,1}.\n",
    "\n",
    "You don't need to do error handling right now, but recall that `legendre_symbol` returns an error if m is not prime.  We'll stick to m prime, so you can do whatever you want if m is not prime (e.g. print an error or just return `False`)."
   ]
  },
  {
   "cell_type": "code",
   "execution_count": null,
   "id": "e8dc7c75-6cf6-4d7c-accb-0df28c945afd",
   "metadata": {},
   "outputs": [],
   "source": [
    "def fake_legendre(k,m): # k is top, m is bottom (modulus)\n"
   ]
  },
  {
   "cell_type": "markdown",
   "id": "f10eaa01-bf2b-4f23-b741-5b05776db072",
   "metadata": {},
   "source": [
    "Here's a cell to mess around and make sure your function works as intended."
   ]
  },
  {
   "cell_type": "code",
   "execution_count": null,
   "id": "fa973586-2919-4aa4-b8d7-c4cd084208d2",
   "metadata": {},
   "outputs": [],
   "source": [
    "m = next_prime(10)\n",
    "[fake_legendre(i,m) for i in range(2*m)]"
   ]
  },
  {
   "cell_type": "markdown",
   "id": "d4335cd6-646e-4235-b743-a58bca861e00",
   "metadata": {},
   "source": [
    "Ok, your turn.  Please use mean, standard deviation and chi-squared to investigate and compare your fake legendre symbol and the real legendre symbol.  Do you see any robust differences in their behaviour?  If you think you have something interesting, run more tests to demonstrate as robust an effect as you can.  You may want to look up and try something called the \"runs test\" of randomness.  We will compare our results next time."
   ]
  },
  {
   "cell_type": "code",
   "execution_count": null,
   "id": "b9210be0-1e62-47d8-ba91-106d1b5497de",
   "metadata": {},
   "outputs": [],
   "source": []
  }
 ],
 "metadata": {
  "kernelspec": {
   "display_name": "SageMath 10.5.beta6",
   "language": "sage",
   "name": "sagemath"
  },
  "language_info": {
   "codemirror_mode": {
    "name": "ipython",
    "version": 3
   },
   "file_extension": ".py",
   "mimetype": "text/x-python",
   "name": "python",
   "nbconvert_exporter": "python",
   "pygments_lexer": "ipython3",
   "version": "3.12.3"
  }
 },
 "nbformat": 4,
 "nbformat_minor": 5
}
