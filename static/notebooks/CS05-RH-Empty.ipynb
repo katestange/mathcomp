{
 "cells": [
  {
   "cell_type": "markdown",
   "id": "d0ea9516-57be-4630-b741-3f97c7873a53",
   "metadata": {},
   "source": [
    "# Case Study 5:  Primes in Sage\n",
    "\n",
    "In Sage, there are commands:\n",
    "\n",
    "1. `prime_pi(x)` - the prime counting function $\\pi(x) = \\# \\{ p < x : p \\mbox{ prime} \\}$.\n",
    "2. `is_prime(x)`\n",
    "3. `nth_prime(n)` - e.g. `nth_prime(1)` gives `2`\n",
    "4. `li(x)` - the logarithmic integral $\\operatorname{li}(x) := \\int_2^x \\frac{dt}{\\ln t}$\n",
    "5. `ln(x)` - the natural log\n",
    "6. `primes(x)` - iterator of primes up to x\n",
    "7. `list(primes(x))` - list of primes up to x\n",
    "\n",
    "An iterator doesn't (necessarily) hold all its elements in memory at once, but can produce them on demand.  There's no random access, you can only get the elements in order.  Both an iterator and a list can be used in a for loop:  `for p in primes(10)` is just like `for p in list(primes(10))`.  But they are different concepts:  one is a list completely in memory, the other an object that produces outputs when called.  Iterators can be much more efficient.\n",
    "\n",
    "The number of primes $\\pi(x)$ is approximated by $\\frac{x}{ln(x)}$ or $\\operatorname{li}(x)$ where $\\ln$ is the natural logarithm.  Create a graph that shows these three quantities for $x$ from $0$ to $10000$ then $100000$ etc.  You'll want to just use `plot( f(x), xmin = a, xmax = b)` syntax, keeping in mind you can add graphics objects and set colours to differentiate them.  Which approximation is the best?"
   ]
  },
  {
   "cell_type": "code",
   "execution_count": null,
   "id": "2aee152e-8304-46c6-b684-2b980f511a3f",
   "metadata": {},
   "outputs": [],
   "source": []
  },
  {
   "cell_type": "markdown",
   "id": "9a9f598a-a754-439c-8042-2ba5f4db8c94",
   "metadata": {},
   "source": [
    "How can you better examine the difference between $\\pi(x)$ and $\\operatorname{li}(x)$?  Can you produce a more informative graph?  This is a bit open-ended, but just play around a bit.  For example, is the approximation getting better or worse as $x$ increases?"
   ]
  },
  {
   "cell_type": "code",
   "execution_count": null,
   "id": "1e18fdf7-424b-4a28-b77d-4eadc2cd86e9",
   "metadata": {},
   "outputs": [],
   "source": []
  },
  {
   "cell_type": "markdown",
   "id": "485993d1-5891-4380-8d50-7e7fa77d11e9",
   "metadata": {},
   "source": [
    "Consider the following graph.\n"
   ]
  },
  {
   "cell_type": "code",
   "execution_count": null,
   "id": "231650a3-9d0d-4b30-9566-84f94118e6cb",
   "metadata": {},
   "outputs": [],
   "source": [
    "plot( li(x) - prime_pi(x), xmin = 0, xmax = 10^6, color=\"blue\")"
   ]
  },
  {
   "cell_type": "markdown",
   "id": "d49c0c84-b386-4aa0-ae17-1efd7ff8d0ca",
   "metadata": {},
   "source": [
    "Then try adding the parameter `plot_points=10^4`.  What's happening?"
   ]
  },
  {
   "cell_type": "code",
   "execution_count": null,
   "id": "7659ef0d-cc90-432e-bf2b-c65eb2b08b30",
   "metadata": {},
   "outputs": [],
   "source": [
    "plot( li(x) - prime_pi(x), xmin = 0, xmax = 10^6, color=\"blue\")"
   ]
  },
  {
   "cell_type": "markdown",
   "id": "cc2c06f2-0645-4a1a-962f-b51c387edf58",
   "metadata": {},
   "source": [
    "Now try to approximate the function $\\operatorname{li}(x) - \\pi(x)$ by a power of $r$."
   ]
  },
  {
   "cell_type": "code",
   "execution_count": null,
   "id": "19db12fe-4d50-4a62-9dd6-2d92421ae9b9",
   "metadata": {},
   "outputs": [],
   "source": []
  },
  {
   "cell_type": "markdown",
   "id": "b16ac908-9f54-46c3-9e72-a08674229401",
   "metadata": {},
   "source": [
    "A better way to try to get at this exponent is to use loglog axes.  Try parameters `scale='loglog'` or `scale='semilogx'` or `scale='semilogy'` in the `show()` command.  What's happening?  Can you get a better fit?  Fiddle with min/max for x also.  How far can you push the data?"
   ]
  },
  {
   "cell_type": "code",
   "execution_count": null,
   "id": "c83b94a1-60f7-42d0-8c16-9d4ed9213847",
   "metadata": {},
   "outputs": [],
   "source": []
  },
  {
   "cell_type": "markdown",
   "id": "afe8ae47-d443-4f9c-ba89-1e0dfb98ba39",
   "metadata": {},
   "source": [
    "Now instead of using loglog axes, adjust the functions themselves (and the limits on x) to get the same picture.  What's different?"
   ]
  },
  {
   "cell_type": "code",
   "execution_count": null,
   "id": "7d07ed68-fd82-441a-a60e-098493354b21",
   "metadata": {},
   "outputs": [],
   "source": []
  },
  {
   "cell_type": "markdown",
   "id": "2d8bf3e8-1c79-44e4-8721-a63c7e7477c1",
   "metadata": {},
   "source": [
    "Do you need to adjust your approximation again?\n",
    "\n",
    "Actually, it's been proven that $\\pi(x) - \\operatorname{li}(x)$ *changes sign* infinitely often!  We haven't seen it happen, but we know the first time it happens is below $10^{10^{10^{34}}}$.  Data can be misleading in many ways.\n",
    "\n",
    "The prime number theorem says $\\pi(x) \\sim \\operatorname{li}(x) \\sim \\frac{x}{\\ln(x)}$, i.e. the ratio of any two of these goes to 1 as x increases.\n",
    "\n",
    "## The Chebyshev function\n",
    "\n",
    "The appearance of $\\ln(x)$ is a hint that a \"better\" prime counting function is the Chebyshev function\n",
    "$$\n",
    "\\phi(x) := \\sum_{prime powers p^k \\le x} \\ln(p) = \\sum_{n \\le x} \\Lambda(n)\n",
    "$$\n",
    "where $\\Lambda(n)$ (the von Mangoldt function) is $\\ln(p)$ on prime powers and $0$ otherwise (a nice convenience).\n",
    "\n",
    "Plot this guy.  You'll have to program a formula for it.  This becomes a bit of a hassle.  Some tips:\n",
    "\n",
    "1. Be sure you _start_ your range of x inputs large enough.\n",
    "2. You can use `RR()` (cast to Sage's real field) or `.n()` (make a symbolic thing numeric).  The difference involves subtleties to do with precision.  This will vastly speed stuff up (sage will try to add all those logs symbolically by default).\n",
    "3. If plot isn't working for you directly, try making a list of datapts and then using `list_plot` (optional `plotjoined=True`).  The gotcha here is again that sage tries to keep everything symbolic until you force it not to, so depending how you program your `chebyshev_psi`, Sage can be trying to make the two (symbolic and numeric) interact and complain with something like `cannot evaluate symbolic expression to a numeric value`."
   ]
  },
  {
   "cell_type": "code",
   "execution_count": null,
   "id": "97ff9a61-6e5b-4475-9539-951ad5763e6d",
   "metadata": {},
   "outputs": [],
   "source": [
    "def chebyshev_psi(x):\n",
    "    # fill in\n",
    "\n",
    "# should be 19.2656583145480\n",
    "print(chebyshev_psi(20))"
   ]
  },
  {
   "cell_type": "code",
   "execution_count": null,
   "id": "85e8be61-8816-4632-9d8c-6b709b069b90",
   "metadata": {},
   "outputs": [],
   "source": [
    "# now plot"
   ]
  },
  {
   "cell_type": "markdown",
   "id": "bd3e55fc-34e3-4de6-bcbd-2af9ed98513e",
   "metadata": {},
   "source": [
    "What power of $x$ does this look like?  What can you plot to be more sure?"
   ]
  },
  {
   "cell_type": "code",
   "execution_count": null,
   "id": "b6b2a91b-3f2d-47e6-8da5-4398ecd961f0",
   "metadata": {},
   "outputs": [],
   "source": []
  },
  {
   "cell_type": "code",
   "execution_count": null,
   "id": "d6c385a9-e226-4ed0-bc5f-3d7bc979f56c",
   "metadata": {},
   "outputs": [],
   "source": []
  },
  {
   "cell_type": "markdown",
   "id": "230e498c-57b1-458e-af99-4b6d4efbce23",
   "metadata": {},
   "source": [
    "In terms of the Chebyshev function, the Prime Number Theorem says\n",
    "$$\n",
    "\\psi(x) \\sim x.\n",
    "$$\n",
    "\n",
    "The error bound on the prime number theorem is known to be around (there are slight improvements):\n",
    "$$\n",
    "\\pi(x) = \\operatorname{li}(x) + O(x e^{-a \\sqrt{\\log(x)}})\n",
    "$$\n",
    "But if the Riemann Hypothesis holds, then we have the vastly superior error:\n",
    "$$\n",
    "\\pi(x) = \\operatorname{li}(x) + O(\\sqrt{x} \\log(x))\n",
    "$$\n"
   ]
  },
  {
   "cell_type": "markdown",
   "id": "970be401-555e-4c9a-802f-fc6204487ce3",
   "metadata": {},
   "source": [
    "## The Riemann Zeta Function\n",
    "\n",
    "The Riemann Zeta function is\n",
    "$$\n",
    "\\zeta(s) = \\sum_{n=1}^\\infty \\frac{1}{n^s} = \\prod_{p} \\left( 1 - \\frac{1}{p^s} \\right)^{-1}.\n",
    "$$\n",
    "The expression at right is known as the Euler product expansion, and is basically a restatement of unique factorization.\n",
    "\n",
    "The $s$ seems superfluous, but it makes this thing into a function, instead of a number (or non-convergent series; where does it converge??).  Think of it as a sort of generating function.  And why not let $s$ be complex?\n",
    "\n",
    "In Sage, we have `zeta(x)`.  This complex function has a simple pole at $s=1$ and can be analytically continued to the whole complex plane via\n",
    "$$\n",
    "\\zeta(s) = 2^s \\pi^{s-1} \\sin(\\pi s/2) \\Gamma(1-s) \\zeta(1-s).\n",
    "$$\n",
    "We also have `gamma(x)` which interpolates the factorial function.\n",
    "\n",
    "Since these are complex functions, we want to use what's called _domain colouring_ to visualize them.\n",
    "\n",
    "The following cell shows the complex plane coloured so that every point has a particular colour.  Pale points are near infinity (which is white) and dark points are near the origin (which is black)."
   ]
  },
  {
   "cell_type": "code",
   "execution_count": null,
   "id": "f16e02dc-1197-47ed-9bfa-a9770cf010b2",
   "metadata": {},
   "outputs": [],
   "source": [
    "complex_plot(x, (-5, 5), (-5, 5))"
   ]
  },
  {
   "cell_type": "markdown",
   "id": "1b61e797-6093-45c2-ae0e-2acbd2ad9ce3",
   "metadata": {},
   "source": [
    "To plot an arbitrary function, we put the OUTPUT colour at the INPUT location.  Explain the following result.  For example, can you see the fundamental theorem of arithmetic at work?  Where does infinity map to?  And zero?"
   ]
  },
  {
   "cell_type": "code",
   "execution_count": null,
   "id": "96c98227-d116-4811-a944-b7dfea430ff6",
   "metadata": {},
   "outputs": [],
   "source": [
    "complex_plot(x^5 + x - 1, (-5, 5), (-5, 5))"
   ]
  },
  {
   "cell_type": "markdown",
   "id": "1eaff52e-5064-4a2a-8e8c-0fb4158e367c",
   "metadata": {},
   "source": [
    "Make a complex plot of the zeta function.  Adjust the boundaries until you can see a bunch of zeroes that are not on the real line.  The option `aspect_ratio = 1` is helpful sometimes."
   ]
  },
  {
   "cell_type": "code",
   "execution_count": null,
   "id": "dd8a859e-daec-48a1-864d-b03c26a8f539",
   "metadata": {},
   "outputs": [],
   "source": [
    "complex_plot(zeta(x), (-25, 25), (-35, 35), aspect_ratio = 1)"
   ]
  },
  {
   "cell_type": "markdown",
   "id": "e959fb83-12be-4565-a6e4-5e4e5f618d22",
   "metadata": {},
   "source": [
    "Might as well plot gamma too."
   ]
  },
  {
   "cell_type": "code",
   "execution_count": null,
   "id": "c529aec9-60ff-4784-929f-b80f64b29436",
   "metadata": {},
   "outputs": [],
   "source": [
    "complex_plot(gamma(x), (-25, 25), (-35, 35), aspect_ratio = 1)"
   ]
  },
  {
   "cell_type": "markdown",
   "id": "b6fdf3d6-de58-4764-a1f0-b7310fd9cd7c",
   "metadata": {},
   "source": [
    "Zoom in on the zeta plot around $1/2 + 14i$.  This is near one of the non-trivial zeroes of the Zeta function on the critical line $re(s) = 1/2$."
   ]
  },
  {
   "cell_type": "code",
   "execution_count": null,
   "id": "85bdd6a2-341f-423e-9b02-2628c27ff439",
   "metadata": {},
   "outputs": [],
   "source": []
  },
  {
   "cell_type": "markdown",
   "id": "def5e81d-67d1-4dda-a86a-4fd5f94e3fda",
   "metadata": {},
   "source": [
    "Make sure you have zeta zeroes available.  Try each of the following two cells to figure out which works on your system.\n",
    "\n",
    "If you want to install the sage database of zeroes, *DON'T DO THIS NOW*, but run `sage -i database_odlyzko_zeta` at the command line (BEWARE:  may take an hour, and ties up your kernel)"
   ]
  },
  {
   "cell_type": "code",
   "execution_count": 1,
   "id": "a720bc60-f351-4241-809e-38856404fb69",
   "metadata": {},
   "outputs": [
    {
     "data": {
      "text/plain": [
       "32.935061588"
      ]
     },
     "execution_count": 1,
     "metadata": {},
     "output_type": "execute_result"
    }
   ],
   "source": [
    "# check if zeta zeroes installed on Sage\n",
    "from sage.misc.package import is_package_installed\n",
    "is_package_installed(\"database_odlyzko_zeta\")\n",
    "# if so, get the 5th zero\n",
    "zz = zeta_zeros()\n",
    "zz[4] # 5th zero"
   ]
  },
  {
   "cell_type": "code",
   "execution_count": 2,
   "id": "e82a55ad-b91f-4685-9bfc-791854f18fe3",
   "metadata": {},
   "outputs": [
    {
     "data": {
      "text/plain": [
       "mpc(real='0.5', imag='32.935061587739192')"
      ]
     },
     "execution_count": 2,
     "metadata": {},
     "output_type": "execute_result"
    }
   ],
   "source": [
    "# zeta zeroes from mpmath\n",
    "from mpmath import zetazero\n",
    "zetazero(5) # 5th zero"
   ]
  },
  {
   "cell_type": "markdown",
   "id": "c1b14cc1-d0ba-415f-acbf-f9a287886233",
   "metadata": {},
   "source": [
    "Just look at those lovely ripples in the large-view plots of the Riemann zeta function!  Don't you want to do a Fourier transform?\n",
    "\n",
    "Let's make the zeroes into poles by considering the logarithmic derivative.  One can prove (from the Euler product expansion) that\n",
    "$$\n",
    "\\frac{\\zeta'(s)}{\\zeta(s)} = - \\sum_{p^k} \\frac{\\ln(p)}{p^{ks}}.\n",
    "$$\n",
    "This function is closely related to the primes and still carries the info of the zeta zeroes (now poles) but in a handier form (there are lots of reasons for this form, but focus just on the fact that this has poles at the zeroes for now).\n",
    "\n",
    "Now, if we restrict to the critical line $re(s) = 1/2$, i.e. $s = 1/2 + \\theta i$, we get\n",
    "$$\n",
    "- \\sum_{p^k} \\frac{\\ln(p)}{p^{k/2}} e^{i \\theta \\ln(p^k)}.\n",
    "$$ \n",
    "\n",
    "If we look at the real part, we can call it\n",
    "\n",
    "$$\n",
    "F(\\theta) = - \\sum_{p^k} \\frac{\\ln(p)}{p^{k/2}} cos( \\theta \\ln(p^k)).\n",
    "$$\n",
    "\n",
    "Graph $F(\\theta)$ as a real function, by partial sums of the formula above (including prime powers up to some bound).  Try increasing the bound and look at the picture.  In your graph, place dots on the x-axis at the Riemann spectrum (the imaginary parts of the zeroes on the critical strip)."
   ]
  },
  {
   "cell_type": "code",
   "execution_count": 45,
   "id": "18a8140c-3e45-4a56-94bf-1e12b0e82e40",
   "metadata": {},
   "outputs": [],
   "source": [
    "def F(theta, bd):\n",
    "    # fill in"
   ]
  },
  {
   "cell_type": "code",
   "execution_count": null,
   "id": "adcaa8ae-264f-4f87-861d-209c80a8372c",
   "metadata": {},
   "outputs": [],
   "source": [
    "# test # should return 4.63714291491119\n",
    "F(zz[4],200)"
   ]
  },
  {
   "cell_type": "code",
   "execution_count": 1,
   "id": "8135a25f-e135-4e47-ba43-484e440310d1",
   "metadata": {},
   "outputs": [],
   "source": [
    "# now graph\n"
   ]
  },
  {
   "cell_type": "markdown",
   "id": "1fd7c343-1840-45b4-9276-c7e13a8330de",
   "metadata": {},
   "source": [
    "As a complement to this computation, compute and display\n",
    "$$\n",
    "f(s) = -\\sum_{k=1}^\\infty \\cos(\\ln(s) \\theta_k)\n",
    "$$\n",
    "where $\\theta_k$ is the imaginary part of the $k$-th Riemann zero.  Where are the spikes located?"
   ]
  },
  {
   "cell_type": "code",
   "execution_count": 52,
   "id": "afdad7a1-18a8-41c3-bf1b-6ede067d916a",
   "metadata": {},
   "outputs": [],
   "source": [
    "def f(s, bd):\n",
    "    # fill in"
   ]
  },
  {
   "cell_type": "code",
   "execution_count": null,
   "id": "f97fe7d3-094e-41b1-b84d-8f69d3060eff",
   "metadata": {},
   "outputs": [],
   "source": [
    "# test # should return 26.0714776214655\n",
    "f(11, 100)"
   ]
  },
  {
   "cell_type": "code",
   "execution_count": 2,
   "id": "a75ac8c4-cdac-4a89-91a1-49cbe6b7d9bd",
   "metadata": {},
   "outputs": [],
   "source": [
    "# now graph\n"
   ]
  },
  {
   "cell_type": "markdown",
   "id": "570a5203-a3f4-4f25-9c1e-0e44d0c0f4ec",
   "metadata": {},
   "source": [
    "## Coda\n",
    "\n",
    "Finally, one more experiment.  Let's watch the Riemann zeta function converge.  Going back to its expression, \n",
    "$$\n",
    "\\zeta(s) = \\sum_{n=1}^\\infty \\frac{1}{n^s},\n",
    "$$\n",
    "let's now compute the successive partial sums and graph them on the complex plane.  Draw a line segment from each position to the next to watch the value converge to $\\zeta(s)$ (or diverge!).  Try different $s$, e.g. $1.3 + 3i$.  To reference $i$, just write `i`.  The complex field is `CC` and you can call `x.real()` and `x.imag()`.  Think at least a little about efficiency."
   ]
  },
  {
   "cell_type": "code",
   "execution_count": null,
   "id": "e75d2a65-3e77-4042-b7f0-a82f192ab666",
   "metadata": {},
   "outputs": [],
   "source": []
  },
  {
   "cell_type": "code",
   "execution_count": null,
   "id": "a0bb0616-1ee7-4af1-8c13-7a87201b1997",
   "metadata": {},
   "outputs": [],
   "source": []
  }
 ],
 "metadata": {
  "kernelspec": {
   "display_name": "SageMath 10.5.beta6",
   "language": "sage",
   "name": "sagemath"
  },
  "language_info": {
   "codemirror_mode": {
    "name": "ipython",
    "version": 3
   },
   "file_extension": ".py",
   "mimetype": "text/x-python",
   "name": "python",
   "nbconvert_exporter": "python",
   "pygments_lexer": "ipython3",
   "version": "3.12.3"
  }
 },
 "nbformat": 4,
 "nbformat_minor": 5
}
