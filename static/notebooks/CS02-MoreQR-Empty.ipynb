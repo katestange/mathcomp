{
 "cells": [
  {
   "cell_type": "markdown",
   "id": "9a0003f9-30d5-4212-b993-f4b58b0a4190",
   "metadata": {},
   "source": [
    "# Case Study 2:  More Quadratic Residues!\n",
    "\n",
    "Here's the code I made for making pretty clocks showing addition and multiplication.  Please feel free to replace it with the code you made.\n",
    "\n",
    "- ``notch(k,m)`` -- gives the coordinates of notch k mod m\n",
    "- ``clockface(m)`` -- creates a graphic object clock with notches modulo m and number labellings \n",
    "- ``segment(k,l,m,col)`` -- creates a graphic object line from notch k to notch l of colour ``col`` \n",
    "- ``multiplication(a,m)`` -- creates the full image of multiplication by a modulo m \n",
    "- ``addition(a,m)`` -- creates the full image of addition by a modulo m "
   ]
  },
  {
   "cell_type": "code",
   "execution_count": null,
   "id": "a3a889db-e716-40b3-a008-eb28368fe449",
   "metadata": {},
   "outputs": [],
   "source": [
    "def notch(k, m, r):  # call your function notch so we can refer to it later\n",
    "    x = r*sin(k*2*pi/m)\n",
    "    y = r*cos(k*2*pi/m)\n",
    "    return (x,y)\n",
    "def clockface(m):\n",
    "    clock = Graphics()\n",
    "    clock += circle( (0,0), 1, color=\"green\" ) # center, radius, color\n",
    "    for k in range(m):\n",
    "        clock += point( notch(k, m, 1), color=\"purple\")\n",
    "        clock += text( k, notch(k, m, 1.1), color=\"purple\")\n",
    "    return clock\n",
    "def segment(k,l,m,col):\n",
    "    seg = line( [notch(k, m, 1), notch(l, m, 1)], color=col )\n",
    "    return seg\n",
    "def multiplication(a,m):\n",
    "    clock = clockface(m)\n",
    "    for k in range(m):\n",
    "        clock += segment(k,a*k,m,\"red\")\n",
    "    return clock\n",
    "def addition(a,m):\n",
    "    clock = clockface(m)\n",
    "    for k in range(m):\n",
    "        clock += segment(k,a+k,m,\"red\")\n",
    "    return clock"
   ]
  },
  {
   "cell_type": "code",
   "execution_count": null,
   "id": "6f9746a0-0522-4449-b9bf-381feab9fa3d",
   "metadata": {},
   "outputs": [],
   "source": [
    "multiplication(7,103).show()"
   ]
  },
  {
   "cell_type": "markdown",
   "id": "1b6d1d9f-aad5-4789-8525-4fd0c4893386",
   "metadata": {},
   "source": [
    "## Matplotlib\n",
    "\n",
    "My simple functions are easy to read, but Sage's plotting capabilities are fairly minimal.  Fortunately, Sage is built on python, which has libraries for lots of stuff.  In particular, `matplotlib` is a very powerful graphing library for many different tasks.  So we're going to learn the basics of how to use that inside Sage, when we want to make prettier pictures.  A few basic facts:\n",
    "\n",
    "1. Sage objects are a Sage type, although they are generated using matplotlib under the hood.\n",
    "2. To make a sage graphics object into a matplotlib object, you can use the command `.matplotlib()`.\n",
    "3. To use matplotlib python plots directly, you need to load it: `import matplotlib.pyplot as plt`.\n",
    "4. Sometimes there are type issues, so you may need to cast a Sage real number to a float, for example.\n",
    "\n",
    "It's hard to go from matplotlib to sage objects, so it's easier, if you want lots of functionality, to just simply work in matplotlib.  Let's convert what we were doing into matplotlib.\n",
    "\n",
    "### The gist of matplotlib\n",
    "\n",
    "1. **Fresh canvas**:  Start a new plot with `fig, ax = plt.subplots()` — this creates a figure and one set of axes.\n",
    "\n",
    "2. **Figure vs. Axes**:  A matplotlib plot lives inside a **figure** (the page/canvas, usually called `fig`), which contains one or more **axes** (the actual plotting regions, usually called `ax`).  You can pass `fig` and `ax` around and add content to them.  You mostly work with `ax`.\n",
    "\n",
    "3. **Basic drawing**:  Add simple things like points, lines, etc. with `ax.plot(...)`.  This modifies the given axes.\n",
    "\n",
    "4. **Artists**:  More complex objects (circles, polygons) are called *artists*.  Some have methods that both create and add them (e.g. `ax.text(...)`).  Others need two steps: create the artist (e.g. `circle = plt.Circle(...)`) and then put it on the axes (e.g. `ax.add_patch(circle)`).\n",
    "\n",
    "5. **Styling and layout**:  At the end, you can adjust aspect ratio, axis visibility, limits, labels, etc. by modifying ax (e.g. `ax.set_aspect(\"equal\")`, `ax.axis(\"off\")`).\n",
    "\n",
    "As a demonstration and reference, here's the commands at the top of the sheet re-done via matplotlib.  Read these over carefully."
   ]
  },
  {
   "cell_type": "code",
   "execution_count": null,
   "id": "b7064cb0-0f3b-4af9-abe2-3871168380d9",
   "metadata": {},
   "outputs": [],
   "source": [
    "import matplotlib.pyplot as plt\n",
    "\n",
    "def clockface(m):\n",
    "    fig, ax = plt.subplots() # fig is the page, ax is the axis system (subplot) you are working on\n",
    "    circle = plt.Circle((0, 0), radius=1, fill=False, color='red')  # center (0,0), radius 1\n",
    "    ax.add_patch(circle) # put the circle on the axes (a circle is an \"artist\" you have to \"add\")\n",
    "    for k in range(m):\n",
    "        loc = notch(k,m,1)\n",
    "        ax.plot([loc[0]], [loc[1]], \"o\", color=\"purple\") # the extra [] are because plot can do lines etc.\n",
    "        loc = notch(k,m,1.1) # text slightly farther out\n",
    "        ax.text(loc[0], loc[1], k, color=\"purple\", ha='center', va='center') # center alignments\n",
    "    return fig, ax\n",
    "def segment(ax,k,l,m,col): # pass in the axes\n",
    "    start = notch(k, m, 1)\n",
    "    end = notch(l, m, 1)\n",
    "    ax.plot([start[0],end[0]], [start[1],end[1]], color=col, linewidth=1)\n",
    "    return ax # return the modified axes\n",
    "def multiplication(a,m):\n",
    "    fig, ax = clockface(m)\n",
    "    for k in range(m):\n",
    "        ax = segment(ax,k,a*k,m,\"red\")\n",
    "    ax.set_aspect('equal') # aspect ratio 1 so the circle looks round\n",
    "    ax.axis(\"off\") # no axes or frame\n",
    "    return fig,ax\n",
    "def addition(a,m):\n",
    "    fig, ax = clockface(m)\n",
    "    for k in range(m):\n",
    "        ax = segment(ax,k,a+k,m,\"red\")\n",
    "    ax.set_aspect('equal')\n",
    "    ax.axis(\"off\")\n",
    "    return fig,ax"
   ]
  },
  {
   "cell_type": "markdown",
   "id": "9786c286-4492-452d-ad37-e6ec4fc01c50",
   "metadata": {},
   "source": [
    "Try it!"
   ]
  },
  {
   "cell_type": "code",
   "execution_count": null,
   "id": "4e0d8178-dbe9-4fa9-8818-959e8cf6df63",
   "metadata": {},
   "outputs": [],
   "source": [
    "multiplication(7,103)"
   ]
  },
  {
   "cell_type": "markdown",
   "id": "966f169d-430e-4e47-8bc0-72f828ed3339",
   "metadata": {},
   "source": [
    "Now I want to improve these plots, by doing some nice stuff only available in matplotlib.  First upgrade your segment plotting by making the line create a colour gradient along its length.  This helps to differentiate start from end.  Some things you need to know to figure this out:\n",
    "\n",
    "1. The function `plt.plot()` actually takes two lists:  x coordinates and y coordinates.  So if they are length 1, you get a point, if they are length 2, you get a line, etc.  To make a gradient, you'll actually make a lot of short lines of different colour along the path.\n",
    "2. If you have imported numpy as np, then it has a handy interpolation function: `np.linspace(start,end,num_points)`.\n",
    "3. You can make a colour map with something like `colors = plt.matplotlib.colormaps[viridis](np.linspace(0, 1, 100))`\n",
    "4. More cool colourmaps [here](https://matplotlib.org/stable/users/explain/colors/colormaps.html).\n",
    "\n",
    "I'm intentionally giving you more vague instructions here.  You can look up documentation, or you can ask ChatGPT questions about why something doesn't work or what the right syntax is, etc."
   ]
  },
  {
   "cell_type": "code",
   "execution_count": null,
   "id": "d80bb948-5ccd-4917-b40b-3ce1c7f9006f",
   "metadata": {},
   "outputs": [],
   "source": [
    "def segment(ax,k,l,m,col,cmap='viridis', detail=20): # rewrite this function\n"
   ]
  },
  {
   "cell_type": "code",
   "execution_count": null,
   "id": "98b0f6dc-fae5-4596-86cd-4aa4187420b4",
   "metadata": {},
   "outputs": [],
   "source": [
    "multiplication(7,13,cmap='plasma',detail=5)"
   ]
  },
  {
   "cell_type": "markdown",
   "id": "a4d83f5d-8d75-4b49-9001-23e3bf0c5753",
   "metadata": {},
   "source": [
    "Cool!  Looking good.  Now make a version of this that shows only where the first floor((p-1)/2) numbers go to (it plots only half the lines).  Careful with your range bounds.  One option is modify code you had previously to allow for a parameter giving the range of lines to draw.  Or you can cut-n-paste.  In nice code you plan to keep, it's best practice to avoid repetition, so nicer to make a more versatile function and, if you like, create wrappers (quick functions that set certain parameters before calling).  You should always consider feeling abashed when cutting-n-pasting.  But do as you like here."
   ]
  },
  {
   "cell_type": "code",
   "execution_count": null,
   "id": "5b50d2a4-fa00-4714-920a-b9984cd69365",
   "metadata": {},
   "outputs": [],
   "source": [
    "def half_multiplication(a,m, cmap='viridis', detail=5): # fill in this function\n",
    "    \n",
    "def half_addition(a,m,cmap='viridis', detail=20): # fill in this function\n"
   ]
  },
  {
   "cell_type": "code",
   "execution_count": null,
   "id": "9a49eadc-0c7d-43ac-9161-9b16359c1f16",
   "metadata": {},
   "outputs": [],
   "source": [
    "half_multiplication(7,13)"
   ]
  },
  {
   "cell_type": "markdown",
   "id": "ccdd76ab-f4b0-408c-ab61-90a6340b4f22",
   "metadata": {},
   "source": [
    "Now write yourself a little loop to display the `half_multiplication` pictures for all residues modulo 23.  You can use `plt.show()` and can label them with print statements.  Print out the legendre symbol -- can you see any patterns?  Hint: you can drag display windows in the notebook to make them larger.  You can also resize pictures with `fig.set_size_inches(3,3)`"
   ]
  },
  {
   "cell_type": "code",
   "execution_count": null,
   "id": "9ba51c30-051f-41f4-a63d-900be863e26b",
   "metadata": {},
   "outputs": [],
   "source": []
  },
  {
   "cell_type": "markdown",
   "id": "cf164693-0c5e-4c18-89f2-551d90aac676",
   "metadata": {},
   "source": [
    "Ok, I'm looking for a very particular conjecture about these pictures, although you'll probably come up with lots of other interesting patterns!  Ask me for hints or confirmation about your conjecture until you've noticed the pattern I'm after.  Then write this down as a conjecture (just a code comment in the next box) and create some code to test it.  In particular, make a function that tests if your conjecture holds for a given modulus."
   ]
  },
  {
   "cell_type": "code",
   "execution_count": null,
   "id": "69f944ea-53d1-493f-8b50-1441b470371a",
   "metadata": {},
   "outputs": [],
   "source": [
    "# my conjecture is:\n",
    "def test_modulus(n):\n",
    "    # fill in"
   ]
  },
  {
   "cell_type": "code",
   "execution_count": null,
   "id": "61894b6b-58cc-4e31-a3c7-91c5f6f9370b",
   "metadata": {},
   "outputs": [],
   "source": [
    "test_modulus(103)"
   ]
  },
  {
   "cell_type": "markdown",
   "id": "2e2f4972-9068-4d3d-bd43-37144d1d702d",
   "metadata": {},
   "source": [
    "Challenge!  Can you do this with a ONE-LINE function??  Use list comprehension.  You can basically do anything in python list comprehension that you can do with set-builder notation.  In particular, you can do \"if\" statements inside list comprehension: guess what the next box does and then check."
   ]
  },
  {
   "cell_type": "code",
   "execution_count": null,
   "id": "de225844-210a-4b24-b9ee-8ad07edf6d5e",
   "metadata": {},
   "outputs": [],
   "source": [
    "[ x+1 for x in range(10) if is_square(x) ]"
   ]
  },
  {
   "cell_type": "markdown",
   "id": "bad08a8f-0a1f-4577-af60-97fd5c52a203",
   "metadata": {},
   "source": [
    "Ok, now test your conjecture -- one line version!"
   ]
  },
  {
   "cell_type": "code",
   "execution_count": null,
   "id": "1f1e980f-7b96-4875-ad04-f96b88d6d446",
   "metadata": {},
   "outputs": [],
   "source": [
    "def test_modulus_oneliner(m):\n"
   ]
  },
  {
   "cell_type": "code",
   "execution_count": null,
   "id": "2bfd8c50-59c8-4528-9dc5-0a68cd36cdd9",
   "metadata": {},
   "outputs": [],
   "source": [
    "test_modulus_oneliner(103)"
   ]
  },
  {
   "cell_type": "markdown",
   "id": "51609f78-3ad2-4a1a-aacb-662ee4aa450d",
   "metadata": {},
   "source": [
    "Fun doing it in one line, perhaps, but hard to debug.  Better to space your code out a bit and have intermediate variables you can print.\n",
    "\n",
    "Prove your conjecture!\n",
    "\n",
    "## Now for a different kind of experimentation\n",
    "\n",
    "Let's forget the diagrams for a bit.  By now you have seen that Legendre symbols are pretty mysterious.  For example, the Generalized Riemann Hypothesis implies that the least (first) quadratic non-residue in $1, 2, \\ldots, p-1$ occurs within $(\\log p)^2$ elements.  Without GRH, we only know $O(p^n)$, where $n$ is anything bigger than $\\sqrt{e}/4$.  which is absurd, right?\n",
    "\n",
    "Let's take another exploratory tack on these.  Let's first restrict our attention to primes (always a bit safer when first exploring in number theory).  So we care about the Legendre symbol $\\left( \\frac{p}{q} \\right)$ for odd primes $p$ and $q$.  Let's just make a giant table.  In Sage, we can make matrices as `M = matrix([[a,b],[c,d]])`.  Try to make the matrix for a linear transformation that shears, just to make sure you are ok with the syntax."
   ]
  },
  {
   "cell_type": "code",
   "execution_count": null,
   "id": "ffdc052e-801b-4031-aa2d-fa12954b4456",
   "metadata": {},
   "outputs": [],
   "source": [
    "matrix([[1,5],[0,1]])"
   ]
  },
  {
   "cell_type": "markdown",
   "id": "1e93ad21-b362-458d-b41d-b647dbc7956d",
   "metadata": {},
   "source": [
    "Some things about matrices:\n",
    "1. the input is a list of lists (each list is a row), so you can use list comprehension\n",
    "2. there's the ability to specify the type of the entries as in `matrix(QQ,[[1,0],[0,1]])` for QQ = rationals; otherwise Sage just guesses.\n",
    "\n",
    "Now, fill out a big matrix (call it M) whose (i,j)-th entry is the legendre symbol $\\left( \\frac{p_i}{p_j} \\right)$ where $p_k$ is the $k$-th prime.  The meaning of big is up to you, but something that's actually big, say, more than 50 x 50, but less than 200x200.  You can do this via a nested for loop, but I recommend list comprehension.  By the way, Sage has an `nth_prime` function built in."
   ]
  },
  {
   "cell_type": "code",
   "execution_count": null,
   "id": "477745b0-aa63-4254-aa60-092478c278b1",
   "metadata": {},
   "outputs": [],
   "source": [
    "M = "
   ]
  },
  {
   "cell_type": "markdown",
   "id": "f2108652-f303-4e30-8d34-ba1f76eb4776",
   "metadata": {},
   "source": [
    "If you try to display your matrix, Sage will tell you unusefully that it's a big matrix.  (Try it: if you called it M, just type M in a cell.)"
   ]
  },
  {
   "cell_type": "code",
   "execution_count": null,
   "id": "7f7a2905-a78e-4ec5-a23b-40052460d4c6",
   "metadata": {},
   "outputs": [],
   "source": [
    "M"
   ]
  },
  {
   "cell_type": "markdown",
   "id": "7c66fbf5-2d9d-4af8-a771-4d2005c98e53",
   "metadata": {},
   "source": [
    "In fact, there's lots of ways to see what it's in your matrix:\n",
    "\n",
    "1. `M.str()`\n",
    "2. `show(M)`\n",
    "3. `latex(M)`\n",
    "4. `M[2,3]` for the (2,3) entry\n",
    "5. `M.row(3)` for the 3rd row.\n",
    "\n",
    "Try each of those."
   ]
  },
  {
   "cell_type": "code",
   "execution_count": null,
   "id": "cae3265d-6af0-4509-8ab8-1cb34f4024b6",
   "metadata": {},
   "outputs": [],
   "source": [
    "M.row(3)"
   ]
  },
  {
   "cell_type": "markdown",
   "id": "fdef0853-031a-408f-aba7-e837ae6d30c0",
   "metadata": {},
   "source": [
    "For future reference, there's also `vector()` and you can multiply matrices and vectors with `*` and do exponentiation with `^` and inverse with `.inverse()` or `^(-1)`.\n",
    "\n",
    "Any conjectures on the values in this matrix?  Like, patterns?  No?  Ok, check this out:  `M.plot()`."
   ]
  },
  {
   "cell_type": "code",
   "execution_count": null,
   "id": "8eff048f-01ef-4a99-a977-ab2116c3f108",
   "metadata": {},
   "outputs": [],
   "source": [
    "M.plot()"
   ]
  },
  {
   "cell_type": "markdown",
   "id": "0825d97d-dafe-44d8-b419-b8c2a65e5de6",
   "metadata": {},
   "source": [
    "Any conjectures now?  If not, try a new matrix which only deals with primes that are $1 \\pmod{4}$."
   ]
  },
  {
   "cell_type": "code",
   "execution_count": null,
   "id": "0661bbc0-d539-40d6-ac67-324fb99f9d2a",
   "metadata": {},
   "outputs": [],
   "source": [
    "M2 = "
   ]
  },
  {
   "cell_type": "code",
   "execution_count": null,
   "id": "cdf7a924-8eff-4b09-a9e6-70d2e2d84cac",
   "metadata": {},
   "outputs": [],
   "source": [
    "M2.plot()"
   ]
  },
  {
   "cell_type": "markdown",
   "id": "fd5ffdf1-0b37-4de6-b82c-076cbb505ce1",
   "metadata": {},
   "source": [
    "What's your conjecture now?  Write a function to test it for all primes up to the largest bound you can manage.  How far can you test it?"
   ]
  },
  {
   "cell_type": "code",
   "execution_count": null,
   "id": "b7de854f-3334-4497-b159-a67cc715d84c",
   "metadata": {},
   "outputs": [],
   "source": [
    "# conjecture = ?"
   ]
  },
  {
   "cell_type": "code",
   "execution_count": null,
   "id": "ea8bea8a-7407-43da-8bba-e4aa0153dc66",
   "metadata": {},
   "outputs": [],
   "source": []
  },
  {
   "cell_type": "markdown",
   "id": "719473d3-300c-4ee0-9f2d-f0e9a3e744ed",
   "metadata": {},
   "source": [
    "Excellent!  You've discovered some famous things.  Run the next cell to know what!"
   ]
  },
  {
   "cell_type": "code",
   "execution_count": null,
   "id": "f68b9b30-e23b-4651-a883-c7296825aeb7",
   "metadata": {},
   "outputs": [],
   "source": [
    "import codecs\n",
    "obf = \"Tnhff'f Yrzzn naq Dhnqengvp Erpvcebpvgl!\"  \n",
    "plain = codecs.decode(obf, \"rot_13\")  \n",
    "plain"
   ]
  },
  {
   "cell_type": "markdown",
   "id": "5a9b6ae1-e0e2-4427-b9c9-46b9bde90c43",
   "metadata": {},
   "source": [
    "## Unnecessary but fun extra stuff\n",
    "\n",
    "Some bonus fun for those that have gotten here!\n",
    "\n",
    "1.  Create a function that will produce the multiplication table of $\\mathbb{Z}/n\\mathbb{Z}$ in a matrix and use plot() to display it.  It is prettiest if you add colours to your matrix plot (argument `cmap='viridis'` for example).  This is just candy as a reward for all your hard work."
   ]
  },
  {
   "cell_type": "code",
   "execution_count": null,
   "id": "ba838c0d-7a4e-4cb9-a411-dff5fc69420a",
   "metadata": {},
   "outputs": [],
   "source": []
  },
  {
   "cell_type": "markdown",
   "id": "70ecf5ce-ec60-4c4e-b541-104719932ba5",
   "metadata": {},
   "source": [
    "2. What happens if you fill an $n \\times m$ matrix by counting $k = 1,2,\\ldots,nm$ and for each $k$, incrementing the entry $( k \\mod n, k \\mod m)$.  (Guess before you try!)  What famous theorem is this?"
   ]
  },
  {
   "cell_type": "code",
   "execution_count": null,
   "id": "e2775f5b-5587-4220-ac66-ad204bbf48ad",
   "metadata": {},
   "outputs": [],
   "source": []
  },
  {
   "cell_type": "markdown",
   "id": "056a2beb-265d-4d18-a871-faf49e34cded",
   "metadata": {},
   "source": [
    "3.  You could modify your clock graphs of modular arithmetic to see the function $x \\mapsto x^2$.  What do you learn?"
   ]
  },
  {
   "cell_type": "code",
   "execution_count": null,
   "id": "bcde5cf2-2f7b-45c0-ae05-da23e9475d0a",
   "metadata": {},
   "outputs": [],
   "source": []
  },
  {
   "cell_type": "markdown",
   "id": "114368fd-73b6-4649-9676-58c7d2ef4ce0",
   "metadata": {},
   "source": [
    "4.  How could you enhance or colour the lines of the squaring clock to learn something?  For example, I've seen people colour cycles."
   ]
  },
  {
   "cell_type": "code",
   "execution_count": null,
   "id": "a326bc88-8693-4fa9-82e6-965d02c2a1af",
   "metadata": {},
   "outputs": [],
   "source": []
  }
 ],
 "metadata": {
  "kernelspec": {
   "display_name": "SageMath 10.5.beta6",
   "language": "sage",
   "name": "sagemath"
  },
  "language_info": {
   "codemirror_mode": {
    "name": "ipython",
    "version": 3
   },
   "file_extension": ".py",
   "mimetype": "text/x-python",
   "name": "python",
   "nbconvert_exporter": "python",
   "pygments_lexer": "ipython3",
   "version": "3.12.3"
  }
 },
 "nbformat": 4,
 "nbformat_minor": 5
}
