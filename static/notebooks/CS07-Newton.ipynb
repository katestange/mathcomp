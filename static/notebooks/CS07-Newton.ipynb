{
 "cells": [
  {
   "cell_type": "markdown",
   "id": "fdf2f7b5-c3bd-4506-b4c4-7ed9020ca30f",
   "metadata": {},
   "source": [
    "# Case Study 7:  Newton's Method\n",
    "\n",
    "Part of the purpose of this case study is to gain some experience with aspects of numerical precision.  The Sage docs for the various options for real and complex numbers are [here](https://doc.sagemath.org/html/en/reference/rings_numerical/index.html).  For now, just take a moment to internalize the fact that there's no way to keep a real number in a computer.\n",
    "\n",
    "Newton's method is an iterative method to find a root to an equation.  For example, given $f(x) = x^2 - 5$, start with any \"guess\" such as $x_0=4$, and then iterate like so:\n",
    "$$\n",
    "x_i = x_{i-1} - \\frac{f(x)}{f'(x)}.\n",
    "$$\n",
    "Write a small program/function that implements this for $f(x) = x^2 - 5$ and real numbers.  It should spit out the iterations $x_0, x_1, \\ldots$ for as many as you want (the number of iterates to show should be an argument)."
   ]
  },
  {
   "cell_type": "code",
   "execution_count": 16,
   "id": "fa03c833-7d8f-4c44-b316-7c939253e4a3",
   "metadata": {},
   "outputs": [],
   "source": [
    "def newton( z, n ): \n",
    "    # z = initial guess\n",
    "    # n = number of iterates to show\n",
    "    iterates = [z]\n",
    "    for i in range(n):\n",
    "        z = z - ( z^2-5 )/(2*z)\n",
    "        iterates.append(z)\n",
    "    return iterates"
   ]
  },
  {
   "cell_type": "markdown",
   "id": "f73d47fd-28e8-464c-a2b7-838396fc9a56",
   "metadata": {},
   "source": [
    "Try it!"
   ]
  },
  {
   "cell_type": "code",
   "execution_count": 17,
   "id": "8d4a5601-bacc-4130-ae05-966f4f090aa8",
   "metadata": {},
   "outputs": [
    {
     "data": {
      "text/plain": [
       "[4, 21/8, 761/336, 1143601/511392, 2615432135521/1169656805184]"
      ]
     },
     "execution_count": 17,
     "metadata": {},
     "output_type": "execute_result"
    }
   ],
   "source": [
    "newton(4, 4)"
   ]
  },
  {
   "cell_type": "markdown",
   "id": "08354b58-54cf-4b1f-81ce-f9b27b4eb006",
   "metadata": {},
   "source": [
    "Ok, if you didn't force your numbers to be real, you are actually getting rational numbers out, which becomes very complicated-looking very fast.  Instead, make this take place in the *real numbers*.  To make a rational or integer `z` into a real number in sage, you do `RR(z)`.  Call this updated version of your function `newton_real`."
   ]
  },
  {
   "cell_type": "code",
   "execution_count": 18,
   "id": "9d299d10-d1e4-47b9-a43b-16fc0fee48aa",
   "metadata": {},
   "outputs": [],
   "source": [
    "def newton_real( z, n ): \n",
    "    # x = initial guess\n",
    "    # n = number of iterates to show\n",
    "    z = RR(z)\n",
    "    iterates = [z]\n",
    "    for i in range(n):\n",
    "        z = z - ( z^2 - 5 )/(2*z)\n",
    "        iterates.append(z)\n",
    "    return iterates"
   ]
  },
  {
   "cell_type": "code",
   "execution_count": 19,
   "id": "bc60ae71-5eb6-437c-a7e6-fd63f1969f1b",
   "metadata": {},
   "outputs": [
    {
     "data": {
      "text/plain": [
       "[4.00000000000000,\n",
       " 2.62500000000000,\n",
       " 2.26488095238095,\n",
       " 2.23625125148614,\n",
       " 2.23606798500998]"
      ]
     },
     "execution_count": 19,
     "metadata": {},
     "output_type": "execute_result"
    }
   ],
   "source": [
    "newton_real(4, 4)"
   ]
  },
  {
   "cell_type": "markdown",
   "id": "aafa2f49-f26a-4530-b57f-519244aab46d",
   "metadata": {},
   "source": [
    "Looks good, let's go further!"
   ]
  },
  {
   "cell_type": "code",
   "execution_count": 20,
   "id": "b9599511-6d64-4e93-a211-2bf277361e0d",
   "metadata": {},
   "outputs": [
    {
     "data": {
      "text/plain": [
       "[2.23606797749979,\n",
       " 2.23606797749979,\n",
       " 2.23606797749979,\n",
       " 2.23606797749979,\n",
       " 2.23606797749979,\n",
       " 2.23606797749979,\n",
       " 2.23606797749979,\n",
       " 2.23606797749979]"
      ]
     },
     "execution_count": 20,
     "metadata": {},
     "output_type": "execute_result"
    }
   ],
   "source": [
    "out = newton_real(4, 100)\n",
    "# let's just view the tail\n",
    "out[-8:] # this looks at the last 8 entries, i.e. entry -8, -7, ... end=-1"
   ]
  },
  {
   "cell_type": "markdown",
   "id": "8dabb1a1-0ff8-4c99-8b27-7c1f747ed8d2",
   "metadata": {},
   "source": [
    "Compare to the *actual* roots of the equation (I trust you can solve it!).  "
   ]
  },
  {
   "cell_type": "code",
   "execution_count": 21,
   "id": "5dc84254-bc57-445b-a571-80d1258c1d72",
   "metadata": {},
   "outputs": [
    {
     "data": {
      "text/plain": [
       "2.23606797749979"
      ]
     },
     "execution_count": 21,
     "metadata": {},
     "output_type": "execute_result"
    }
   ],
   "source": [
    "RR(sqrt(5))"
   ]
  },
  {
   "cell_type": "markdown",
   "id": "507c614c-0d7a-4dab-8c99-1b8bdfae8eb2",
   "metadata": {},
   "source": [
    "Great!  (I hope.)\n",
    "\n",
    "BTW, why does this work?  Calculus homework!  A good way to see it is to draw a picture of the iteration process on a graph.  I've done this for you just because I couldn't resist."
   ]
  },
  {
   "cell_type": "code",
   "execution_count": 57,
   "id": "c5554131-e8c0-4a4c-a7ab-a6f2e25d72e2",
   "metadata": {},
   "outputs": [],
   "source": [
    "def newton_picture( z, n ): \n",
    "    # green = parabola\n",
    "    G = plot( x^2 - 5, color=\"green\", xmin = -5, xmax = 5 )\n",
    "    z = RR(z)\n",
    "    # blue = initial root guess and tangent to curve at that x-coordinate\n",
    "    G += plot( + (z^2 - 5) + 2*z*(x - z), color=\"blue\", xmin = -5, xmax = 5 )\n",
    "    G += point( (z, 0), color=\"blue\", xmin = -5, xmax = 5, size = 20)\n",
    "    G += point( (z, z^2 - 5), color=\"blue\", xmin = -5, xmax = 5, size = 20)\n",
    "    for i in range(n):\n",
    "        z = z - ( z^2 - 5 )/(2*z)\n",
    "        # red = intersection of that blue line with x-axis as new root guess\n",
    "        G += plot( + (z^2 - 5) + 2*z*(x - z), color=\"red\", xmin = -5, xmax = 5)\n",
    "        G += point( (z, 0), color=\"red\", xmin = -5, xmax = 5, size = 20)\n",
    "        G += point( (z, z^2 - 5), color=\"red\", xmin = -5, xmax = 5, size = 20)\n",
    "    return G"
   ]
  },
  {
   "cell_type": "code",
   "execution_count": 58,
   "id": "81c262fc-b649-4760-9037-8cdd73edb2b3",
   "metadata": {},
   "outputs": [
    {
     "data": {
      "image/png": "[encoded data removed]",
      "text/plain": [
       "Graphics object consisting of 7 graphics primitives"
      ]
     },
     "metadata": {},
     "output_type": "display_data"
    }
   ],
   "source": [
    "newton_picture( 4, 1 ).show( xmin = -5, xmax = 5, ymin = -20 )"
   ]
  },
  {
   "cell_type": "markdown",
   "id": "7a9f6920-2e27-41d9-8f7a-1d5e860227f2",
   "metadata": {},
   "source": [
    "## Polynomials, symbolic variables\n",
    "\n",
    "Ok, now let's modify our newton function.  The new one will take in any polynomial.  To do this, we need to be comfortable with polynomials and derivatives.  Check this out!"
   ]
  },
  {
   "cell_type": "code",
   "execution_count": 7,
   "id": "f5b184b4-4d76-463e-984a-a3cff5917cf3",
   "metadata": {},
   "outputs": [
    {
     "data": {
      "text/plain": [
       "2*x"
      ]
     },
     "execution_count": 7,
     "metadata": {},
     "output_type": "execute_result"
    }
   ],
   "source": [
    "f = x^2 - 5\n",
    "f.derivative()"
   ]
  },
  {
   "cell_type": "markdown",
   "id": "e9f079e1-e345-46da-abec-a733f35f1e1c",
   "metadata": {},
   "source": [
    "Sage is a little weird in this regard.  You can deal with polynomials as symbolic objects, or elements of polynomial rings.  When you want a symbolic objects, you need to define variables.  The variable `x` comes preloaded in Sage.  Try this instead:"
   ]
  },
  {
   "cell_type": "code",
   "execution_count": 8,
   "id": "8160a714-f6c8-4d59-8dc7-06211c58cdc6",
   "metadata": {},
   "outputs": [
    {
     "ename": "NameError",
     "evalue": "name 'y' is not defined",
     "output_type": "error",
     "traceback": [
      "\u001b[0;31m---------------------------------------------------------------------------\u001b[0m",
      "\u001b[0;31mNameError\u001b[0m                                 Traceback (most recent call last)",
      "Cell \u001b[0;32mIn[8], line 1\u001b[0m\n\u001b[0;32m----> 1\u001b[0m f \u001b[38;5;241m=\u001b[39m \u001b[43my\u001b[49m\u001b[38;5;241m*\u001b[39m\u001b[38;5;241m*\u001b[39mInteger(\u001b[38;5;241m2\u001b[39m) \u001b[38;5;241m-\u001b[39m Integer(\u001b[38;5;241m5\u001b[39m)\n\u001b[1;32m      2\u001b[0m f\u001b[38;5;241m.\u001b[39mderivative()\n",
      "\u001b[0;31mNameError\u001b[0m: name 'y' is not defined"
     ]
    }
   ],
   "source": [
    "f = y^2 - 5\n",
    "f.derivative()"
   ]
  },
  {
   "cell_type": "markdown",
   "id": "4a46dd42-29ee-4e3e-b286-e2c484851154",
   "metadata": {},
   "source": [
    "So `x` is special!  When you want to make more things symbolic variables, you have to declare them."
   ]
  },
  {
   "cell_type": "code",
   "execution_count": 9,
   "id": "36fe94c1-c64b-45c5-b6af-746b1bd1944a",
   "metadata": {},
   "outputs": [
    {
     "data": {
      "text/plain": [
       "-2*x + y"
      ]
     },
     "execution_count": 9,
     "metadata": {},
     "output_type": "execute_result"
    }
   ],
   "source": [
    "x,y = var('x,y') \n",
    "f = y^2 - x^2 + x*y\n",
    "f.derivative(x)"
   ]
  },
  {
   "cell_type": "markdown",
   "id": "f3228dc6-73f6-4981-b04d-f11173257e32",
   "metadata": {},
   "source": [
    "There's a quirk here in `x,y = var('x,y')`.  This declares the names as well as the variables (hence the repetition).\n",
    "There's technically a difference between how you refer to variables and how Sage writes them to the screen, these can differ:\n",
    "* the leftmost x,y are the variables (as you will type them to Sage)\n",
    "* the rightmost x,y are how Sage will type them to you.\n",
    "\n",
    "In the next cell, try changing only one of the two and see how confusing it is.  You can mostly forget this remark until it bites you.  Also, you might want to put this back to normal before you move on and get confused later."
   ]
  },
  {
   "cell_type": "code",
   "execution_count": 10,
   "id": "4a4c211b-7ef7-4889-ab0b-248461c99320",
   "metadata": {},
   "outputs": [
    {
     "data": {
      "text/plain": [
       "-2*x + z"
      ]
     },
     "execution_count": 10,
     "metadata": {},
     "output_type": "execute_result"
    }
   ],
   "source": [
    "x,y = var('x,z') \n",
    "f = y^2 - x^2 + x*y\n",
    "f.derivative(x)"
   ]
  },
  {
   "cell_type": "markdown",
   "id": "3c650a14-8ea0-4093-8349-e87eea02fc07",
   "metadata": {},
   "source": [
    "Here's how you can evaluate polynomials."
   ]
  },
  {
   "cell_type": "code",
   "execution_count": 61,
   "id": "dbeb994b-3e09-41a4-828f-b31cc511b740",
   "metadata": {},
   "outputs": [
    {
     "data": {
      "text/plain": [
       "-1"
      ]
     },
     "execution_count": 61,
     "metadata": {},
     "output_type": "execute_result"
    }
   ],
   "source": [
    "f = x^2 - 5\n",
    "f(x = 2)"
   ]
  },
  {
   "cell_type": "markdown",
   "id": "c3da7d78-d244-468d-8504-bf6d2850330e",
   "metadata": {},
   "source": [
    "Note:  if you declare a polynomial ring like `R.<x> = ZZ[x]`, then `x` is no longer a symbolic variable, but is instead an element of a polynomial ring.  Often this doesn't matter, until it does.  But notice the repetition again: the possible difference between how you write the variable and Sage does.\n",
    "\n",
    "## Newton Iteration for any polynomial\n",
    "\n",
    "Ok, enough of that.  Now make `newton_iteration` that takes in a single variable symbolic polynomial `f`.   (Let's call the new one `newton_iteration`; I'll try to avoid repeat names because it can lead to \"footgunning\"... I'll let you figure that one out).  "
   ]
  },
  {
   "cell_type": "code",
   "execution_count": 62,
   "id": "c5c956fa-8c7e-4b16-b4ef-f3980dcfdef6",
   "metadata": {},
   "outputs": [],
   "source": [
    "def newton_iteration( f, z, n ): \n",
    "    # f = poly to find root of\n",
    "    # z = initial guess\n",
    "    # n = number of iterates to show\n",
    "    df = f.derivative()\n",
    "    z = RR(z)\n",
    "    iterates = [z]\n",
    "    for i in range(n):\n",
    "        z = z - f(x = z)/df(x = z)\n",
    "        iterates.append(z)\n",
    "    return iterates"
   ]
  },
  {
   "cell_type": "code",
   "execution_count": 63,
   "id": "f442c732-ed14-4f9d-b789-04d36f897269",
   "metadata": {},
   "outputs": [
    {
     "data": {
      "text/plain": [
       "[4.00000000000000,\n",
       " 2.62500000000000,\n",
       " 2.26488095238095,\n",
       " 2.23625125148614,\n",
       " 2.23606798500998]"
      ]
     },
     "execution_count": 63,
     "metadata": {},
     "output_type": "execute_result"
    }
   ],
   "source": [
    "newton_iteration( x^2-5, 4, 4 )"
   ]
  },
  {
   "cell_type": "code",
   "execution_count": 82,
   "id": "4ceda9eb-8452-4413-9324-fb89b2a7cc3e",
   "metadata": {},
   "outputs": [
    {
     "data": {
      "text/plain": [
       "(x - 1)*(x - 1.00000000000001)"
      ]
     },
     "execution_count": 82,
     "metadata": {},
     "output_type": "execute_result"
    }
   ],
   "source": [
    "# check out this polynomial!\n",
    "f = (x-1)*(x-1.00000000000001); \n",
    "f"
   ]
  },
  {
   "cell_type": "code",
   "execution_count": 156,
   "id": "17c52c70-08e5-43bb-a0b6-c8b37ac5a8ed",
   "metadata": {},
   "outputs": [
    {
     "data": {
      "text/plain": [
       "[1.00000000000001,\n",
       " 1.00000000000001,\n",
       " 1.00000000000001,\n",
       " 1.00000000000001,\n",
       " 1.00000000000001,\n",
       " 1.00000000000001,\n",
       " 1.00000000000001,\n",
       " 1.00000000000001]"
      ]
     },
     "execution_count": 156,
     "metadata": {},
     "output_type": "execute_result"
    }
   ],
   "source": [
    "iters = newton_iteration( f, 10, 150 )\n",
    "iters[-8:]"
   ]
  },
  {
   "cell_type": "code",
   "execution_count": 157,
   "id": "3cab9f6a-645e-4758-9da2-2da1bb5723a4",
   "metadata": {},
   "outputs": [
    {
     "data": {
      "text/plain": [
       "x^2 - 2.00000000000001*x + 1.00000000000001"
      ]
     },
     "execution_count": 157,
     "metadata": {},
     "output_type": "execute_result"
    }
   ],
   "source": [
    "# I'm just going to expand it out, no precision lost here, right?\n",
    "g = f.expand()\n",
    "g"
   ]
  },
  {
   "cell_type": "code",
   "execution_count": 158,
   "id": "84ce5d48-350c-4e2a-b3a8-37707a1586b1",
   "metadata": {},
   "outputs": [
    {
     "data": {
      "text/plain": [
       "[1.00000000737431,\n",
       " 0.999999992319013,\n",
       " 1.00000001400026,\n",
       " 0.999999998140210,\n",
       " 1.00000005783620,\n",
       " 1.00000002712261,\n",
       " 1.00000001074921,\n",
       " 0.999999990092376]"
      ]
     },
     "execution_count": 158,
     "metadata": {},
     "output_type": "execute_result"
    }
   ],
   "source": [
    "iters = newton_iteration( g, 10, 150 )\n",
    "iters[-8:]"
   ]
  },
  {
   "cell_type": "markdown",
   "id": "58c95367-ffe7-4df0-ac7d-2c3e20ec3b6a",
   "metadata": {},
   "source": [
    "Wait, that's definitely weird.  What's going on?  It was the *same* polynomial!!\n",
    "\n",
    "## Computers can't handle real numbers\n",
    "\n",
    "What's happening is that in the first case, when we plug into `f`, we are plugging into the factored polynomial and then multiplying the factors.  In the second case, we are plugging into `g`, the already expanded polynomial.  It's a different sequence of events.  They are mathematically equivalent in the abstract world of polynomials over the real numbers, but not in Sage.  For the answer, evaluate the next cell."
   ]
  },
  {
   "cell_type": "code",
   "execution_count": 88,
   "id": "d962f22b-c3ca-4575-b2d9-1b6c215a60e8",
   "metadata": {},
   "outputs": [
    {
     "data": {
      "text/plain": [
       "Real Field with 53 bits of precision"
      ]
     },
     "execution_count": 88,
     "metadata": {},
     "output_type": "execute_result"
    }
   ],
   "source": [
    "RR"
   ]
  },
  {
   "cell_type": "markdown",
   "id": "4402caa9-f3a5-4a7b-aa1f-a723e8c1867f",
   "metadata": {},
   "source": [
    "That means that `RR` by default has 53 bits of precision and any extra digits are lost.  So there's rounding error.  And it's a very finicky thing to keep track of what types of operations lose precision at what rate, even when mathematically two options are equivalent!  A computer cannot store real numbers, because real numbers, in their platonic form, have infinite precision.\n",
    "\n",
    "So what do we do?  We track precision.  For this reason, Sage has a whole bunch of different options for real (and complex) numbers.  Check out the following cells."
   ]
  },
  {
   "cell_type": "code",
   "execution_count": 130,
   "id": "f029d10d-d4cf-490c-8013-a46d1c7cece9",
   "metadata": {},
   "outputs": [
    {
     "data": {
      "text/plain": [
       "Real Field with 10 bits of precision"
      ]
     },
     "execution_count": 130,
     "metadata": {},
     "output_type": "execute_result"
    }
   ],
   "source": [
    "RealField(10)"
   ]
  },
  {
   "cell_type": "code",
   "execution_count": 131,
   "id": "0fd57d14-b630-4aeb-aea1-cb811b0ce1b7",
   "metadata": {},
   "outputs": [
    {
     "data": {
      "text/plain": [
       "Real Double Field"
      ]
     },
     "execution_count": 131,
     "metadata": {},
     "output_type": "execute_result"
    }
   ],
   "source": [
    "RDF # double = 64 bits"
   ]
  },
  {
   "cell_type": "code",
   "execution_count": 132,
   "id": "394ba0d5-8e38-4110-9b99-959ed831b1d7",
   "metadata": {},
   "outputs": [
    {
     "data": {
      "text/plain": [
       "Real Interval Field with 53 bits of precision"
      ]
     },
     "execution_count": 132,
     "metadata": {},
     "output_type": "execute_result"
    }
   ],
   "source": [
    "RIF"
   ]
  },
  {
   "cell_type": "markdown",
   "id": "50ab24bf-2a5d-44c7-8705-9cfb434a2ed1",
   "metadata": {},
   "source": [
    "Interval arithmetic is a solution to the precision problem.  The idea is to track the possible error.  So for example, try this:"
   ]
  },
  {
   "cell_type": "code",
   "execution_count": 133,
   "id": "1c7c23b6-833a-4b60-8dd8-0d3fdf823b9e",
   "metadata": {},
   "outputs": [
    {
     "data": {
      "text/plain": [
       "1.414213562373095?"
      ]
     },
     "execution_count": 133,
     "metadata": {},
     "output_type": "execute_result"
    }
   ],
   "source": [
    "RIF(sqrt(2))"
   ]
  },
  {
   "cell_type": "markdown",
   "id": "a4342730-3811-48e4-84aa-6d92022bfc63",
   "metadata": {},
   "source": [
    "Do you see the question mark?  What that is saying is that the true square root of $2$ lies between 1.41421356237309 and 1.41421356237310.  Actually -- achtung!! -- they are stored internally in hex, and the decimal printed to the screen is a rounding.  You can rely on them to be correct internally, but the actual endpoints are stored in base 16. \n",
    "\n",
    "So elements of RIF are actually intervals.  So you can actually specify them that way.  Let's see our square root in its internal glory:"
   ]
  },
  {
   "cell_type": "code",
   "execution_count": 134,
   "id": "b9c40aad-d2aa-4724-9d4c-01ac8730c1f8",
   "metadata": {},
   "outputs": [
    {
     "name": "stdout",
     "output_type": "stream",
     "text": [
      "1.41421356237310 1.41421356237309\n"
     ]
    }
   ],
   "source": [
    "a = RIF(sqrt(2))\n",
    "print(a.upper(), a.lower())"
   ]
  },
  {
   "cell_type": "markdown",
   "id": "5389eb80-35e3-4eb7-8e5c-c2c9b631a4a1",
   "metadata": {},
   "source": [
    "Now here's a very cool trick!  (Using pari under the hood.)"
   ]
  },
  {
   "cell_type": "code",
   "execution_count": 135,
   "id": "987e46be-f57b-483d-9bce-0cb8d5227171",
   "metadata": {},
   "outputs": [
    {
     "data": {
      "text/plain": [
       "x^2 - 2"
      ]
     },
     "execution_count": 135,
     "metadata": {},
     "output_type": "execute_result"
    }
   ],
   "source": [
    "a.algdep(5) # return a polynomial of degree at most 5 that the number satisfies!"
   ]
  },
  {
   "cell_type": "markdown",
   "id": "8db8d06a-7f1d-4d1b-af2f-73857e10ab9d",
   "metadata": {},
   "source": [
    "Ok, so fixed precision is dangerous, and interval arithmetic is frequently the solution.  You can use interval arithmetic via RIF as if the things you are dealing with are numbers, not intervals, but there's some weird gotchas, like comparisons `==`, `<=` etc. (I'll let you read Sage manuals if you want).  Copy `newton_iteration` here as `newton_iteration_RIF` and just cast `z` to RIF instead of RR."
   ]
  },
  {
   "cell_type": "code",
   "execution_count": 149,
   "id": "7da17c63-d35b-443c-8119-8431c872b78a",
   "metadata": {},
   "outputs": [],
   "source": [
    "def newton_iteration_RIF( f, z, n ): \n",
    "    # f = poly to find root of\n",
    "    # z = initial guess\n",
    "    # n = number of iterates to show\n",
    "    df = f.derivative()\n",
    "    z = RIF(z)\n",
    "    iterates = [z]\n",
    "    for i in range(n):\n",
    "        z = z - f(x = z)/df(x = z)\n",
    "        iterates.append(z)\n",
    "    return iterates"
   ]
  },
  {
   "cell_type": "markdown",
   "id": "12cba179-273a-4fd6-a762-6a4abd06e514",
   "metadata": {},
   "source": [
    "Now try the two polynomials we dealt with above.  You may need to cast the coefficients into RIF.  What happens?"
   ]
  },
  {
   "cell_type": "code",
   "execution_count": 151,
   "id": "86fe5ba5-7e86-43c2-99e9-5c4b51467392",
   "metadata": {},
   "outputs": [
    {
     "data": {
      "text/plain": [
       "[1.00001144?,\n",
       " 1.0000058?,\n",
       " 1.0000029?,\n",
       " 1.000002?,\n",
       " 1.000001?,\n",
       " 1.000000?,\n",
       " [-infinity .. +infinity],\n",
       " [-infinity .. +infinity]]"
      ]
     },
     "execution_count": 151,
     "metadata": {},
     "output_type": "execute_result"
    }
   ],
   "source": [
    "iters = newton_iteration_RIF( (x-RIF(1))*(x-RIF(1.00000000000001)), 4, 25)\n",
    "iters[-8:]"
   ]
  },
  {
   "cell_type": "code",
   "execution_count": 152,
   "id": "f6b1ea37-9965-4535-b523-2c3b45b1bee1",
   "metadata": {},
   "outputs": [
    {
     "data": {
      "text/plain": [
       "[1.0468750000?,\n",
       " 1.02343750?,\n",
       " 1.011719?,\n",
       " 1.0059?,\n",
       " 1.0?,\n",
       " [-infinity .. +infinity],\n",
       " [-infinity .. +infinity],\n",
       " [-infinity .. +infinity]]"
      ]
     },
     "execution_count": 152,
     "metadata": {},
     "output_type": "execute_result"
    }
   ],
   "source": [
    "iters = newton_iteration_RIF( x^2 - RIF(2.00000000000001)*x + RIF(1.00000000000001), 4, 13)\n",
    "iters[-8:]"
   ]
  },
  {
   "cell_type": "markdown",
   "id": "b0b05a0e-4de0-4a63-83be-8b435da52071",
   "metadata": {},
   "source": [
    "It may not be satisfying but the point is that it didn't *lie* to you."
   ]
  },
  {
   "cell_type": "markdown",
   "id": "b9936a97-4af6-44ea-b357-b588f154ecb4",
   "metadata": {},
   "source": [
    "## But which root?\n",
    "\n",
    "Your challenge now is to write a newton iteration function that works over the complex numbers.  [These](https://doc.sagemath.org/html/en/reference/rings_numerical/index.html) are your tools.  By default Sage understands both `i` and `I` as the complex upper half plane square root of -1 (unless you redefined one of them!)."
   ]
  },
  {
   "cell_type": "code",
   "execution_count": 38,
   "id": "f14940f1-f669-4807-b28f-9d7e20d73c3b",
   "metadata": {},
   "outputs": [],
   "source": [
    "def newton_iteration_CBF( f, z, n ): \n",
    "    # f = poly to find root of\n",
    "    # z = initial guess\n",
    "    # n = number of iterates to show\n",
    "    df = f.derivative()\n",
    "    z = CBF(z)\n",
    "    iterates = [z]\n",
    "    for i in range(n):\n",
    "        z = z - f(x = z)/df(x = z)\n",
    "        iterates.append(z)\n",
    "    return iterates"
   ]
  },
  {
   "cell_type": "code",
   "execution_count": 36,
   "id": "e9502695-fafa-4bec-898e-d8f835821cea",
   "metadata": {},
   "outputs": [
    {
     "data": {
      "text/plain": [
       "[999.0000000000000,\n",
       " [666.666889557636 +/- 5.19e-13],\n",
       " [445.11159404157 +/- 4.06e-12],\n",
       " [297.40823086587 +/- 4.40e-12],\n",
       " [198.93957283479 +/- 6.38e-12],\n",
       " [133.2941769439 +/- 3.81e-11],\n",
       " [89.5311438807 +/- 5.05e-11],\n",
       " [60.356634810 +/- 2.65e-10],\n",
       " [40.908231582 +/- 2.45e-10],\n",
       " [27.94453376 +/- 3.16e-9],\n",
       " [19.30492536 +/- 4.72e-9],\n",
       " [13.54947278 +/- 6.69e-9],\n",
       " [9.7189376 +/- 3.03e-8],\n",
       " [7.1749096 +/- 3.64e-8],\n",
       " [5.493423 +/- 3.14e-7],\n",
       " [4.394347 +/- 5.74e-7],\n",
       " [3.694772 +/- 7.24e-7],\n",
       " [3.27819 +/- 6.44e-6],\n",
       " [3.07055 +/- 8.29e-6],\n",
       " [3.00641 +/- 9.24e-6],\n",
       " [3.0001 +/- 5.53e-5],\n",
       " [3.0000 +/- 3.20e-5],\n",
       " [3.0000 +/- 6.40e-5],\n",
       " [3.000 +/- 1.28e-4],\n",
       " [3.000 +/- 2.56e-4],\n",
       " [3.000 +/- 5.12e-4],\n",
       " [3.00 +/- 1.03e-3],\n",
       " [3.00 +/- 2.06e-3],\n",
       " [3.00 +/- 4.13e-3],\n",
       " [3.00 +/- 8.34e-3],\n",
       " [3.0 +/- 0.0170]]"
      ]
     },
     "execution_count": 36,
     "metadata": {},
     "output_type": "execute_result"
    }
   ],
   "source": [
    "newton_iteration_CBF( (x-1)*(x-2)*(x-3), i, 30 )"
   ]
  },
  {
   "cell_type": "markdown",
   "id": "2f96590f-759d-4f24-92bf-6049de62ecff",
   "metadata": {},
   "source": [
    "Now, write a function which will determine, for an input complex value z, which of the three roots of `(x-1)(x-2)(x-3)` the Newton iteration process will eventually approach.  (To be completely mathematically correct about this probably requires some more mathematical theory of Newton iteration, so do something reasonable.)"
   ]
  },
  {
   "cell_type": "code",
   "execution_count": 39,
   "id": "ce748584-1641-410e-a0bd-c143c534ab99",
   "metadata": {},
   "outputs": [],
   "source": [
    "def which_root( z ): \n",
    "    z = CBF(z)\n",
    "    for i in range(100):\n",
    "        z = CBF(z - (z-CBF(1))*(z-CBF(2))*(z-CBF(3))/(CBF(3)*z^2 - CBF(12)*z + CBF(11)))\n",
    "        if z.contains_exact(1) and not(z.contains_exact(2)) and not(z.contains_exact(3)):\n",
    "            return 1\n",
    "        if z.contains_exact(2) and not(z.contains_exact(1)) and not(z.contains_exact(3)):\n",
    "            return 2\n",
    "        if z.contains_exact(3) and not(z.contains_exact(2)) and not(z.contains_exact(1)):\n",
    "            return 3\n",
    "    return False"
   ]
  },
  {
   "cell_type": "code",
   "execution_count": 40,
   "id": "f349cdbb-d0dd-49a0-923e-204193c2c32f",
   "metadata": {},
   "outputs": [
    {
     "data": {
      "text/plain": [
       "3"
      ]
     },
     "execution_count": 40,
     "metadata": {},
     "output_type": "execute_result"
    }
   ],
   "source": [
    "which_root( 1+3*i )"
   ]
  },
  {
   "cell_type": "markdown",
   "id": "37f3e462-d687-4a74-bdd9-2ae3c2812532",
   "metadata": {},
   "source": [
    "And now, create a plot of the complex plane where each position is coloured by which root of the polynomial you approach with Newton iteration.  Let's stick to three roots.  So colour the location x+iy green (or whatever) if running Newton iteration with initial value x+iy approaches root 1, blue if it approaches root 2, etc.  Sage is probably *not* the right tool for this type of sophistocated plotting, so I'd do the simplest thing and fill a matrix with the results and then `plot(matrix, cmap='viridis')`.  But if you want to use an excellent tool for this, you could look into [shadertoy](https://www.shadertoy.com/)."
   ]
  },
  {
   "cell_type": "code",
   "execution_count": 33,
   "id": "231749e2-1ff8-41c5-86fb-2144397bfe5d",
   "metadata": {},
   "outputs": [
    {
     "data": {
      "text/plain": [
       "1000 x 1000 dense matrix over Integer Ring (use the '.str()' method to see the entries)"
      ]
     },
     "execution_count": 33,
     "metadata": {},
     "output_type": "execute_result"
    }
   ],
   "source": [
    "d = 1000\n",
    "m = matrix(d,d)\n",
    "for i in range(d):\n",
    "    for j in range(d):\n",
    "        m[i,j] = which_root( -I +i*10/d + j*10/d*I )\n",
    "m"
   ]
  },
  {
   "cell_type": "code",
   "execution_count": 34,
   "id": "95c0f952-4494-4c56-bfaa-4474598dbff9",
   "metadata": {},
   "outputs": [
    {
     "data": {
      "image/png": "[encoded data removed]",
      "text/plain": [
       "Graphics object consisting of 1 graphics primitive"
      ]
     },
     "execution_count": 34,
     "metadata": {},
     "output_type": "execute_result"
    }
   ],
   "source": [
    "plot(m, cmap='viridis')"
   ]
  },
  {
   "cell_type": "markdown",
   "id": "b3206217-ed8b-4819-9498-a3382d5b4bb3",
   "metadata": {},
   "source": [
    "Now that you've done that, reward yourself by checking out [Wikipedia's gallery](https://en.wikipedia.org/wiki/Newton_fractal)."
   ]
  },
  {
   "cell_type": "code",
   "execution_count": null,
   "id": "dfe112fe-4d93-45e8-93c2-8ffea8d433bd",
   "metadata": {},
   "outputs": [],
   "source": []
  }
 ],
 "metadata": {
  "kernelspec": {
   "display_name": "SageMath 10.5.beta6",
   "language": "sage",
   "name": "sagemath"
  },
  "language_info": {
   "codemirror_mode": {
    "name": "ipython",
    "version": 3
   },
   "file_extension": ".py",
   "mimetype": "text/x-python",
   "name": "python",
   "nbconvert_exporter": "python",
   "pygments_lexer": "ipython3",
   "version": "3.12.3"
  }
 },
 "nbformat": 4,
 "nbformat_minor": 5
}
